{
 "cells": [
  {
   "cell_type": "markdown",
   "metadata": {},
   "source": [
    "### Predicción de Noticias"
   ]
  },
  {
   "cell_type": "code",
   "execution_count": 19,
   "metadata": {},
   "outputs": [],
   "source": [
    "import pickle\n",
    "import seaborn as sns\n",
    "import pandas as pd\n",
    "import numpy as np\n",
    "from sklearn.model_selection import train_test_split\n",
    "from sklearn.feature_extraction.text import TfidfVectorizer\n",
    "from sklearn.linear_model import LogisticRegression\n",
    "from sklearn.metrics import classification_report\n",
    "from sklearn.ensemble import RandomForestClassifier\n",
    "\n",
    "\n",
    "import warnings\n",
    "warnings.filterwarnings('ignore')"
   ]
  },
  {
   "cell_type": "markdown",
   "metadata": {},
   "source": [
    "#### Lectura de Datos"
   ]
  },
  {
   "cell_type": "code",
   "execution_count": 9,
   "metadata": {},
   "outputs": [],
   "source": [
    "with open(\"../dataset/data.pkl\", \"rb\") as file:\n",
    "    df = pickle.load(file)"
   ]
  },
  {
   "cell_type": "code",
   "execution_count": 10,
   "metadata": {},
   "outputs": [
    {
     "name": "stdout",
     "output_type": "stream",
     "text": [
      "Columnas con mas del 0% de valores nulos:\n",
      "label      0.0\n",
      "content    0.0\n",
      "dtype: float64\n"
     ]
    }
   ],
   "source": [
    "def porcentajeNulos(df, umbral):\n",
    "    # Calcula el porcentaje de nulos por columna\n",
    "\n",
    "    porcentajeNulos = df.isna().sum().sort_values(ascending=False) / len(df)\n",
    "    # Filtra las columnas que superan el umbral\n",
    "    columnas = porcentajeNulos[(porcentajeNulos >= umbral)]\n",
    "\n",
    "    # Muestra el resultado\n",
    "    if not columnas.empty:\n",
    "        print(\"Columnas con mas del {}% de valores nulos:\".format(umbral * 100))\n",
    "        print(columnas)\n",
    "        \n",
    "    else :\n",
    "        print(\"No hay columnas con mas del {}% de valores nulos.\".format(umbral * 100))\n",
    "\n",
    "porcentajeNulos(df, umbral=0)"
   ]
  },
  {
   "cell_type": "code",
   "execution_count": 11,
   "metadata": {},
   "outputs": [],
   "source": [
    "X = df[\"content\"]\n",
    "y = df[\"label\"]"
   ]
  },
  {
   "cell_type": "code",
   "execution_count": 23,
   "metadata": {},
   "outputs": [],
   "source": [
    "X_train, X_test, y_train, y_test =  train_test_split(X, y, test_size=0.4, random_state=42)\n",
    "\n",
    "\n",
    "# Se utiliza TfidfVectorizer de scikit-learn para convertir el texto en una representación numérica basada en TF-IDF, \n",
    "# tanto para los datos de entrenamiento como para los de prueba, lo que permite utilizar algoritmos de aprendizaje automático con datos de texto.\n",
    "\n",
    "\n",
    "#este objeto \"vector\" contiene los parámetros y métodos necesarios para convertir texto en una matriz numérica basada en TF-IDF\n",
    "vector = TfidfVectorizer()\n",
    "\n",
    "x_train = vector.fit_transform(X_train)\n",
    "x_test = vector.transform(X_test)\n"
   ]
  },
  {
   "cell_type": "markdown",
   "metadata": {},
   "source": [
    "## Regresion Logistica"
   ]
  },
  {
   "cell_type": "code",
   "execution_count": 24,
   "metadata": {},
   "outputs": [
    {
     "data": {
      "text/plain": [
       "0.9890902987579725"
      ]
     },
     "execution_count": 24,
     "metadata": {},
     "output_type": "execute_result"
    }
   ],
   "source": [
    "modelo = LogisticRegression()\n",
    "modelo.fit(x_train,y_train)\n",
    "y_pred = modelo.predict(x_test)\n",
    "\n",
    "modelo.score(x_test, y_test)"
   ]
  },
  {
   "cell_type": "code",
   "execution_count": 29,
   "metadata": {},
   "outputs": [
    {
     "name": "stdout",
     "output_type": "stream",
     "text": [
      "              precision    recall  f1-score   support\n",
      "\n",
      "           0       0.99      0.99      0.99      9353\n",
      "           1       0.99      0.99      0.99      8521\n",
      "\n",
      "    accuracy                           0.99     17874\n",
      "   macro avg       0.99      0.99      0.99     17874\n",
      "weighted avg       0.99      0.99      0.99     17874\n",
      "\n"
     ]
    }
   ],
   "source": [
    "print(classification_report(y_test, y_pred))"
   ]
  },
  {
   "cell_type": "markdown",
   "metadata": {},
   "source": [
    "## Random Forest Classifier"
   ]
  },
  {
   "cell_type": "code",
   "execution_count": 30,
   "metadata": {},
   "outputs": [],
   "source": [
    "modelo = RandomForestClassifier(random_state=0)\n",
    "modelo.fit(x_train, y_train)\n",
    "y_pred = modelo.predict(x_test)"
   ]
  },
  {
   "cell_type": "code",
   "execution_count": 31,
   "metadata": {},
   "outputs": [
    {
     "data": {
      "text/plain": [
       "0.9965872216627504"
      ]
     },
     "execution_count": 31,
     "metadata": {},
     "output_type": "execute_result"
    }
   ],
   "source": [
    "modelo.score(x_test, y_test)"
   ]
  },
  {
   "cell_type": "code",
   "execution_count": 35,
   "metadata": {},
   "outputs": [
    {
     "name": "stdout",
     "output_type": "stream",
     "text": [
      "              precision    recall  f1-score   support\n",
      "\n",
      "           0       1.00      1.00      1.00      9353\n",
      "           1       1.00      1.00      1.00      8521\n",
      "\n",
      "    accuracy                           1.00     17874\n",
      "   macro avg       1.00      1.00      1.00     17874\n",
      "weighted avg       1.00      1.00      1.00     17874\n",
      "\n"
     ]
    }
   ],
   "source": [
    "print(classification_report(y_test, y_pred))"
   ]
  }
 ],
 "metadata": {
  "kernelspec": {
   "display_name": "venv",
   "language": "python",
   "name": "python3"
  },
  "language_info": {
   "codemirror_mode": {
    "name": "ipython",
    "version": 3
   },
   "file_extension": ".py",
   "mimetype": "text/x-python",
   "name": "python",
   "nbconvert_exporter": "python",
   "pygments_lexer": "ipython3",
   "version": "3.11.4"
  }
 },
 "nbformat": 4,
 "nbformat_minor": 2
}
