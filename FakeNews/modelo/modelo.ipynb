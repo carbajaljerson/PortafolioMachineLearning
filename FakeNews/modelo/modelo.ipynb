{
 "cells": [
  {
   "cell_type": "markdown",
   "metadata": {},
   "source": [
    "### Predicción de Noticias"
   ]
  },
  {
   "cell_type": "code",
   "execution_count": 1,
   "metadata": {},
   "outputs": [],
   "source": [
    "import pickle\n",
    "import seaborn as sns\n",
    "import pandas as pd\n",
    "import numpy as np\n",
    "\n",
    "import warnings\n",
    "warnings.filterwarnings('ignore')"
   ]
  },
  {
   "cell_type": "markdown",
   "metadata": {},
   "source": [
    "#### Lectura de Datos"
   ]
  },
  {
   "cell_type": "code",
   "execution_count": 3,
   "metadata": {},
   "outputs": [],
   "source": [
    "with open(\"../dataset/data.pkl\", \"rb\") as file:\n",
    "    df = pickle.load(file)"
   ]
  },
  {
   "cell_type": "code",
   "execution_count": 89,
   "metadata": {},
   "outputs": [
    {
     "name": "stdout",
     "output_type": "stream",
     "text": [
      "Columnas con mas del 0% de valores nulos:\n",
      "label      0.0\n",
      "content    0.0\n",
      "dtype: float64\n"
     ]
    }
   ],
   "source": [
    "def porcentajeNulos(df, umbral):\n",
    "    # Calcula el porcentaje de nulos por columna\n",
    "\n",
    "    porcentajeNulos = df.isna().sum().sort_values(ascending=False) / len(df)\n",
    "    # Filtra las columnas que superan el umbral\n",
    "    columnas = porcentajeNulos[(porcentajeNulos >= umbral)]\n",
    "\n",
    "    # Muestra el resultado\n",
    "    if not columnas.empty:\n",
    "        print(\"Columnas con mas del {}% de valores nulos:\".format(umbral * 100))\n",
    "        print(columnas)\n",
    "        \n",
    "    else :\n",
    "        print(\"No hay columnas con mas del {}% de valores nulos.\".format(umbral * 100))\n",
    "\n",
    "porcentajeNulos(df, umbral=0)"
   ]
  },
  {
   "cell_type": "code",
   "execution_count": 87,
   "metadata": {},
   "outputs": [
    {
     "data": {
      "text/plain": [
       "label      0.0\n",
       "content    0.0\n",
       "dtype: float64"
      ]
     },
     "execution_count": 87,
     "metadata": {},
     "output_type": "execute_result"
    }
   ],
   "source": [
    "df.isna().sum().sort_values(ascending=False) / len(df)"
   ]
  }
 ],
 "metadata": {
  "kernelspec": {
   "display_name": "venv",
   "language": "python",
   "name": "python3"
  },
  "language_info": {
   "codemirror_mode": {
    "name": "ipython",
    "version": 3
   },
   "file_extension": ".py",
   "mimetype": "text/x-python",
   "name": "python",
   "nbconvert_exporter": "python",
   "pygments_lexer": "ipython3",
   "version": "3.11.4"
  }
 },
 "nbformat": 4,
 "nbformat_minor": 2
}
