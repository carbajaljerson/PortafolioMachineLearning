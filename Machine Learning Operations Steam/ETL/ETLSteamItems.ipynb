{
 "cells": [
  {
   "cell_type": "markdown",
   "metadata": {},
   "source": [
    "Steam Games Data Cleaning"
   ]
  },
  {
   "cell_type": "markdown",
   "metadata": {},
   "source": [
    "Exploración del dataset y limpieza"
   ]
  },
  {
   "cell_type": "code",
   "execution_count": 3,
   "metadata": {},
   "outputs": [],
   "source": [
    "# Importacion de librerias\n",
    "import json  \n",
    "import pandas as pd\n",
    "import numpy as np\n",
    "import re\n",
    "import ast\n",
    "import warnings\n",
    "warnings.filterwarnings('ignore')"
   ]
  },
  {
   "cell_type": "markdown",
   "metadata": {},
   "source": [
    "Esto convertirá nuestro archivo JSON en un marco de datos de pandas."
   ]
  },
  {
   "cell_type": "code",
   "execution_count": 4,
   "metadata": {},
   "outputs": [],
   "source": [
    "rows = []\n",
    "with open(\"australian_users_items.json\", encoding='MacRoman') as f:\n",
    "    for line in f.readlines():\n",
    "        rows.append(ast.literal_eval(line))\n",
    "        "
   ]
  },
  {
   "cell_type": "markdown",
   "metadata": {},
   "source": [
    "Los campos JSON se importaron como un array en los valores de la columna Items"
   ]
  },
  {
   "cell_type": "code",
   "execution_count": 5,
   "metadata": {},
   "outputs": [
    {
     "data": {
      "text/html": [
       "<div>\n",
       "<style scoped>\n",
       "    .dataframe tbody tr th:only-of-type {\n",
       "        vertical-align: middle;\n",
       "    }\n",
       "\n",
       "    .dataframe tbody tr th {\n",
       "        vertical-align: top;\n",
       "    }\n",
       "\n",
       "    .dataframe thead th {\n",
       "        text-align: right;\n",
       "    }\n",
       "</style>\n",
       "<table border=\"1\" class=\"dataframe\">\n",
       "  <thead>\n",
       "    <tr style=\"text-align: right;\">\n",
       "      <th></th>\n",
       "      <th>item_id</th>\n",
       "      <th>item_name</th>\n",
       "      <th>playtime_forever</th>\n",
       "      <th>playtime_2weeks</th>\n",
       "      <th>steam_id</th>\n",
       "      <th>items_count</th>\n",
       "      <th>user_id</th>\n",
       "      <th>user_url</th>\n",
       "    </tr>\n",
       "  </thead>\n",
       "  <tbody>\n",
       "    <tr>\n",
       "      <th>0</th>\n",
       "      <td>10</td>\n",
       "      <td>Counter-Strike</td>\n",
       "      <td>6</td>\n",
       "      <td>0</td>\n",
       "      <td>76561197970982479</td>\n",
       "      <td>277</td>\n",
       "      <td>76561197970982479</td>\n",
       "      <td>http://steamcommunity.com/profiles/76561197970...</td>\n",
       "    </tr>\n",
       "    <tr>\n",
       "      <th>1</th>\n",
       "      <td>20</td>\n",
       "      <td>Team Fortress Classic</td>\n",
       "      <td>0</td>\n",
       "      <td>0</td>\n",
       "      <td>76561197970982479</td>\n",
       "      <td>277</td>\n",
       "      <td>76561197970982479</td>\n",
       "      <td>http://steamcommunity.com/profiles/76561197970...</td>\n",
       "    </tr>\n",
       "    <tr>\n",
       "      <th>2</th>\n",
       "      <td>30</td>\n",
       "      <td>Day of Defeat</td>\n",
       "      <td>7</td>\n",
       "      <td>0</td>\n",
       "      <td>76561197970982479</td>\n",
       "      <td>277</td>\n",
       "      <td>76561197970982479</td>\n",
       "      <td>http://steamcommunity.com/profiles/76561197970...</td>\n",
       "    </tr>\n",
       "    <tr>\n",
       "      <th>3</th>\n",
       "      <td>40</td>\n",
       "      <td>Deathmatch Classic</td>\n",
       "      <td>0</td>\n",
       "      <td>0</td>\n",
       "      <td>76561197970982479</td>\n",
       "      <td>277</td>\n",
       "      <td>76561197970982479</td>\n",
       "      <td>http://steamcommunity.com/profiles/76561197970...</td>\n",
       "    </tr>\n",
       "    <tr>\n",
       "      <th>4</th>\n",
       "      <td>50</td>\n",
       "      <td>Half-Life: Opposing Force</td>\n",
       "      <td>0</td>\n",
       "      <td>0</td>\n",
       "      <td>76561197970982479</td>\n",
       "      <td>277</td>\n",
       "      <td>76561197970982479</td>\n",
       "      <td>http://steamcommunity.com/profiles/76561197970...</td>\n",
       "    </tr>\n",
       "    <tr>\n",
       "      <th>5</th>\n",
       "      <td>60</td>\n",
       "      <td>Ricochet</td>\n",
       "      <td>0</td>\n",
       "      <td>0</td>\n",
       "      <td>76561197970982479</td>\n",
       "      <td>277</td>\n",
       "      <td>76561197970982479</td>\n",
       "      <td>http://steamcommunity.com/profiles/76561197970...</td>\n",
       "    </tr>\n",
       "    <tr>\n",
       "      <th>6</th>\n",
       "      <td>70</td>\n",
       "      <td>Half-Life</td>\n",
       "      <td>0</td>\n",
       "      <td>0</td>\n",
       "      <td>76561197970982479</td>\n",
       "      <td>277</td>\n",
       "      <td>76561197970982479</td>\n",
       "      <td>http://steamcommunity.com/profiles/76561197970...</td>\n",
       "    </tr>\n",
       "    <tr>\n",
       "      <th>7</th>\n",
       "      <td>130</td>\n",
       "      <td>Half-Life: Blue Shift</td>\n",
       "      <td>0</td>\n",
       "      <td>0</td>\n",
       "      <td>76561197970982479</td>\n",
       "      <td>277</td>\n",
       "      <td>76561197970982479</td>\n",
       "      <td>http://steamcommunity.com/profiles/76561197970...</td>\n",
       "    </tr>\n",
       "    <tr>\n",
       "      <th>8</th>\n",
       "      <td>300</td>\n",
       "      <td>Day of Defeat: Source</td>\n",
       "      <td>4733</td>\n",
       "      <td>0</td>\n",
       "      <td>76561197970982479</td>\n",
       "      <td>277</td>\n",
       "      <td>76561197970982479</td>\n",
       "      <td>http://steamcommunity.com/profiles/76561197970...</td>\n",
       "    </tr>\n",
       "    <tr>\n",
       "      <th>9</th>\n",
       "      <td>240</td>\n",
       "      <td>Counter-Strike: Source</td>\n",
       "      <td>1853</td>\n",
       "      <td>0</td>\n",
       "      <td>76561197970982479</td>\n",
       "      <td>277</td>\n",
       "      <td>76561197970982479</td>\n",
       "      <td>http://steamcommunity.com/profiles/76561197970...</td>\n",
       "    </tr>\n",
       "  </tbody>\n",
       "</table>\n",
       "</div>"
      ],
      "text/plain": [
       "  item_id                  item_name  playtime_forever  playtime_2weeks  \\\n",
       "0      10             Counter-Strike                 6                0   \n",
       "1      20      Team Fortress Classic                 0                0   \n",
       "2      30              Day of Defeat                 7                0   \n",
       "3      40         Deathmatch Classic                 0                0   \n",
       "4      50  Half-Life: Opposing Force                 0                0   \n",
       "5      60                   Ricochet                 0                0   \n",
       "6      70                  Half-Life                 0                0   \n",
       "7     130      Half-Life: Blue Shift                 0                0   \n",
       "8     300      Day of Defeat: Source              4733                0   \n",
       "9     240     Counter-Strike: Source              1853                0   \n",
       "\n",
       "            steam_id items_count            user_id  \\\n",
       "0  76561197970982479         277  76561197970982479   \n",
       "1  76561197970982479         277  76561197970982479   \n",
       "2  76561197970982479         277  76561197970982479   \n",
       "3  76561197970982479         277  76561197970982479   \n",
       "4  76561197970982479         277  76561197970982479   \n",
       "5  76561197970982479         277  76561197970982479   \n",
       "6  76561197970982479         277  76561197970982479   \n",
       "7  76561197970982479         277  76561197970982479   \n",
       "8  76561197970982479         277  76561197970982479   \n",
       "9  76561197970982479         277  76561197970982479   \n",
       "\n",
       "                                            user_url  \n",
       "0  http://steamcommunity.com/profiles/76561197970...  \n",
       "1  http://steamcommunity.com/profiles/76561197970...  \n",
       "2  http://steamcommunity.com/profiles/76561197970...  \n",
       "3  http://steamcommunity.com/profiles/76561197970...  \n",
       "4  http://steamcommunity.com/profiles/76561197970...  \n",
       "5  http://steamcommunity.com/profiles/76561197970...  \n",
       "6  http://steamcommunity.com/profiles/76561197970...  \n",
       "7  http://steamcommunity.com/profiles/76561197970...  \n",
       "8  http://steamcommunity.com/profiles/76561197970...  \n",
       "9  http://steamcommunity.com/profiles/76561197970...  "
      ]
     },
     "execution_count": 5,
     "metadata": {},
     "output_type": "execute_result"
    }
   ],
   "source": [
    "#Normalizando las filas de la Columna 'items'\n",
    "data = pd.json_normalize(rows, record_path=['items'], meta=['steam_id','items_count','user_id','user_url'] )\n",
    "data.head(10)"
   ]
  },
  {
   "cell_type": "code",
   "execution_count": 6,
   "metadata": {},
   "outputs": [
    {
     "data": {
      "text/plain": [
       "(5153209, 8)"
      ]
     },
     "execution_count": 6,
     "metadata": {},
     "output_type": "execute_result"
    }
   ],
   "source": [
    "data.shape"
   ]
  },
  {
   "cell_type": "code",
   "execution_count": 7,
   "metadata": {},
   "outputs": [
    {
     "name": "stdout",
     "output_type": "stream",
     "text": [
      "Numero de filas duplicadas = 59104\n"
     ]
    }
   ],
   "source": [
    "print(f\"Numero de filas duplicadas = {data.duplicated().sum()}\")"
   ]
  },
  {
   "cell_type": "code",
   "execution_count": 8,
   "metadata": {},
   "outputs": [],
   "source": [
    "data = data.drop_duplicates()\n",
    "data.reset_index(drop=True,inplace=True)"
   ]
  },
  {
   "cell_type": "code",
   "execution_count": 9,
   "metadata": {},
   "outputs": [
    {
     "name": "stdout",
     "output_type": "stream",
     "text": [
      "Numero de filas duplicadas = 0\n"
     ]
    }
   ],
   "source": [
    "print(f\"Numero de filas duplicadas = {data.duplicated().sum()}\")"
   ]
  },
  {
   "cell_type": "code",
   "execution_count": 10,
   "metadata": {},
   "outputs": [
    {
     "name": "stdout",
     "output_type": "stream",
     "text": [
      "<class 'pandas.core.frame.DataFrame'>\n",
      "RangeIndex: 5094105 entries, 0 to 5094104\n",
      "Data columns (total 8 columns):\n",
      " #   Column            Dtype \n",
      "---  ------            ----- \n",
      " 0   item_id           object\n",
      " 1   item_name         object\n",
      " 2   playtime_forever  int64 \n",
      " 3   playtime_2weeks   int64 \n",
      " 4   steam_id          object\n",
      " 5   items_count       object\n",
      " 6   user_id           object\n",
      " 7   user_url          object\n",
      "dtypes: int64(2), object(6)\n",
      "memory usage: 310.9+ MB\n"
     ]
    }
   ],
   "source": [
    "data.info()"
   ]
  },
  {
   "cell_type": "code",
   "execution_count": 11,
   "metadata": {},
   "outputs": [],
   "source": [
    "data['item_name'] = data['item_name'].str.title()"
   ]
  },
  {
   "cell_type": "code",
   "execution_count": 12,
   "metadata": {},
   "outputs": [
    {
     "data": {
      "text/html": [
       "<div>\n",
       "<style scoped>\n",
       "    .dataframe tbody tr th:only-of-type {\n",
       "        vertical-align: middle;\n",
       "    }\n",
       "\n",
       "    .dataframe tbody tr th {\n",
       "        vertical-align: top;\n",
       "    }\n",
       "\n",
       "    .dataframe thead th {\n",
       "        text-align: right;\n",
       "    }\n",
       "</style>\n",
       "<table border=\"1\" class=\"dataframe\">\n",
       "  <thead>\n",
       "    <tr style=\"text-align: right;\">\n",
       "      <th></th>\n",
       "      <th>item_id</th>\n",
       "      <th>item_name</th>\n",
       "      <th>playtime_forever</th>\n",
       "      <th>playtime_2weeks</th>\n",
       "      <th>steam_id</th>\n",
       "      <th>items_count</th>\n",
       "      <th>user_id</th>\n",
       "      <th>user_url</th>\n",
       "    </tr>\n",
       "  </thead>\n",
       "  <tbody>\n",
       "    <tr>\n",
       "      <th>5094095</th>\n",
       "      <td>519170</td>\n",
       "      <td>The Journey Home</td>\n",
       "      <td>0</td>\n",
       "      <td>0</td>\n",
       "      <td>76561198326700687</td>\n",
       "      <td>177</td>\n",
       "      <td>76561198326700687</td>\n",
       "      <td>http://steamcommunity.com/profiles/76561198326...</td>\n",
       "    </tr>\n",
       "    <tr>\n",
       "      <th>5094096</th>\n",
       "      <td>358390</td>\n",
       "      <td>Stargunner</td>\n",
       "      <td>0</td>\n",
       "      <td>0</td>\n",
       "      <td>76561198326700687</td>\n",
       "      <td>177</td>\n",
       "      <td>76561198326700687</td>\n",
       "      <td>http://steamcommunity.com/profiles/76561198326...</td>\n",
       "    </tr>\n",
       "    <tr>\n",
       "      <th>5094097</th>\n",
       "      <td>521570</td>\n",
       "      <td>You Have 10 Seconds 2</td>\n",
       "      <td>0</td>\n",
       "      <td>0</td>\n",
       "      <td>76561198326700687</td>\n",
       "      <td>177</td>\n",
       "      <td>76561198326700687</td>\n",
       "      <td>http://steamcommunity.com/profiles/76561198326...</td>\n",
       "    </tr>\n",
       "    <tr>\n",
       "      <th>5094098</th>\n",
       "      <td>304930</td>\n",
       "      <td>Unturned</td>\n",
       "      <td>677</td>\n",
       "      <td>677</td>\n",
       "      <td>76561198329548331</td>\n",
       "      <td>7</td>\n",
       "      <td>76561198329548331</td>\n",
       "      <td>http://steamcommunity.com/profiles/76561198329...</td>\n",
       "    </tr>\n",
       "    <tr>\n",
       "      <th>5094099</th>\n",
       "      <td>227940</td>\n",
       "      <td>Heroes &amp; Generals</td>\n",
       "      <td>43</td>\n",
       "      <td>43</td>\n",
       "      <td>76561198329548331</td>\n",
       "      <td>7</td>\n",
       "      <td>76561198329548331</td>\n",
       "      <td>http://steamcommunity.com/profiles/76561198329...</td>\n",
       "    </tr>\n",
       "    <tr>\n",
       "      <th>5094100</th>\n",
       "      <td>346330</td>\n",
       "      <td>Brainbread 2</td>\n",
       "      <td>0</td>\n",
       "      <td>0</td>\n",
       "      <td>76561198329548331</td>\n",
       "      <td>7</td>\n",
       "      <td>76561198329548331</td>\n",
       "      <td>http://steamcommunity.com/profiles/76561198329...</td>\n",
       "    </tr>\n",
       "    <tr>\n",
       "      <th>5094101</th>\n",
       "      <td>373330</td>\n",
       "      <td>All Is Dust</td>\n",
       "      <td>0</td>\n",
       "      <td>0</td>\n",
       "      <td>76561198329548331</td>\n",
       "      <td>7</td>\n",
       "      <td>76561198329548331</td>\n",
       "      <td>http://steamcommunity.com/profiles/76561198329...</td>\n",
       "    </tr>\n",
       "    <tr>\n",
       "      <th>5094102</th>\n",
       "      <td>388490</td>\n",
       "      <td>One Way To Die: Steam Edition</td>\n",
       "      <td>3</td>\n",
       "      <td>3</td>\n",
       "      <td>76561198329548331</td>\n",
       "      <td>7</td>\n",
       "      <td>76561198329548331</td>\n",
       "      <td>http://steamcommunity.com/profiles/76561198329...</td>\n",
       "    </tr>\n",
       "    <tr>\n",
       "      <th>5094103</th>\n",
       "      <td>521570</td>\n",
       "      <td>You Have 10 Seconds 2</td>\n",
       "      <td>4</td>\n",
       "      <td>4</td>\n",
       "      <td>76561198329548331</td>\n",
       "      <td>7</td>\n",
       "      <td>76561198329548331</td>\n",
       "      <td>http://steamcommunity.com/profiles/76561198329...</td>\n",
       "    </tr>\n",
       "    <tr>\n",
       "      <th>5094104</th>\n",
       "      <td>519140</td>\n",
       "      <td>Minds Eyes</td>\n",
       "      <td>3</td>\n",
       "      <td>3</td>\n",
       "      <td>76561198329548331</td>\n",
       "      <td>7</td>\n",
       "      <td>76561198329548331</td>\n",
       "      <td>http://steamcommunity.com/profiles/76561198329...</td>\n",
       "    </tr>\n",
       "  </tbody>\n",
       "</table>\n",
       "</div>"
      ],
      "text/plain": [
       "        item_id                      item_name  playtime_forever  \\\n",
       "5094095  519170               The Journey Home                 0   \n",
       "5094096  358390                     Stargunner                 0   \n",
       "5094097  521570          You Have 10 Seconds 2                 0   \n",
       "5094098  304930                       Unturned               677   \n",
       "5094099  227940              Heroes & Generals                43   \n",
       "5094100  346330                   Brainbread 2                 0   \n",
       "5094101  373330                    All Is Dust                 0   \n",
       "5094102  388490  One Way To Die: Steam Edition                 3   \n",
       "5094103  521570          You Have 10 Seconds 2                 4   \n",
       "5094104  519140                     Minds Eyes                 3   \n",
       "\n",
       "         playtime_2weeks           steam_id items_count            user_id  \\\n",
       "5094095                0  76561198326700687         177  76561198326700687   \n",
       "5094096                0  76561198326700687         177  76561198326700687   \n",
       "5094097                0  76561198326700687         177  76561198326700687   \n",
       "5094098              677  76561198329548331           7  76561198329548331   \n",
       "5094099               43  76561198329548331           7  76561198329548331   \n",
       "5094100                0  76561198329548331           7  76561198329548331   \n",
       "5094101                0  76561198329548331           7  76561198329548331   \n",
       "5094102                3  76561198329548331           7  76561198329548331   \n",
       "5094103                4  76561198329548331           7  76561198329548331   \n",
       "5094104                3  76561198329548331           7  76561198329548331   \n",
       "\n",
       "                                                  user_url  \n",
       "5094095  http://steamcommunity.com/profiles/76561198326...  \n",
       "5094096  http://steamcommunity.com/profiles/76561198326...  \n",
       "5094097  http://steamcommunity.com/profiles/76561198326...  \n",
       "5094098  http://steamcommunity.com/profiles/76561198329...  \n",
       "5094099  http://steamcommunity.com/profiles/76561198329...  \n",
       "5094100  http://steamcommunity.com/profiles/76561198329...  \n",
       "5094101  http://steamcommunity.com/profiles/76561198329...  \n",
       "5094102  http://steamcommunity.com/profiles/76561198329...  \n",
       "5094103  http://steamcommunity.com/profiles/76561198329...  \n",
       "5094104  http://steamcommunity.com/profiles/76561198329...  "
      ]
     },
     "execution_count": 12,
     "metadata": {},
     "output_type": "execute_result"
    }
   ],
   "source": [
    "data.tail(10)"
   ]
  },
  {
   "cell_type": "markdown",
   "metadata": {},
   "source": [
    "Número de datos ausentes por columna \n"
   ]
  },
  {
   "cell_type": "code",
   "execution_count": 13,
   "metadata": {},
   "outputs": [
    {
     "data": {
      "text/plain": [
       "item_id             0\n",
       "item_name           0\n",
       "playtime_forever    0\n",
       "playtime_2weeks     0\n",
       "steam_id            0\n",
       "items_count         0\n",
       "user_id             0\n",
       "user_url            0\n",
       "dtype: int64"
      ]
     },
     "execution_count": 13,
     "metadata": {},
     "output_type": "execute_result"
    }
   ],
   "source": [
    "data.isna().sum().sort_values()"
   ]
  },
  {
   "cell_type": "code",
   "execution_count": 14,
   "metadata": {},
   "outputs": [],
   "source": [
    "data['items_count'] = pd.to_numeric(data['items_count'], errors='coerce')"
   ]
  },
  {
   "cell_type": "code",
   "execution_count": 15,
   "metadata": {},
   "outputs": [
    {
     "data": {
      "text/plain": [
       "item_id             0\n",
       "item_name           0\n",
       "playtime_forever    0\n",
       "playtime_2weeks     0\n",
       "steam_id            0\n",
       "items_count         0\n",
       "user_id             0\n",
       "user_url            0\n",
       "dtype: int64"
      ]
     },
     "execution_count": 15,
     "metadata": {},
     "output_type": "execute_result"
    }
   ],
   "source": [
    "data.isna().sum().sort_values()"
   ]
  },
  {
   "cell_type": "code",
   "execution_count": 16,
   "metadata": {},
   "outputs": [],
   "source": [
    "data = data.sort_values('item_id')"
   ]
  },
  {
   "cell_type": "code",
   "execution_count": 17,
   "metadata": {},
   "outputs": [],
   "source": [
    "data = data.reset_index(drop=True)"
   ]
  },
  {
   "cell_type": "code",
   "execution_count": 18,
   "metadata": {},
   "outputs": [
    {
     "data": {
      "text/html": [
       "<div>\n",
       "<style scoped>\n",
       "    .dataframe tbody tr th:only-of-type {\n",
       "        vertical-align: middle;\n",
       "    }\n",
       "\n",
       "    .dataframe tbody tr th {\n",
       "        vertical-align: top;\n",
       "    }\n",
       "\n",
       "    .dataframe thead th {\n",
       "        text-align: right;\n",
       "    }\n",
       "</style>\n",
       "<table border=\"1\" class=\"dataframe\">\n",
       "  <thead>\n",
       "    <tr style=\"text-align: right;\">\n",
       "      <th></th>\n",
       "      <th>item_id</th>\n",
       "      <th>item_name</th>\n",
       "      <th>playtime_forever</th>\n",
       "      <th>playtime_2weeks</th>\n",
       "      <th>steam_id</th>\n",
       "      <th>items_count</th>\n",
       "      <th>user_id</th>\n",
       "      <th>user_url</th>\n",
       "    </tr>\n",
       "  </thead>\n",
       "  <tbody>\n",
       "    <tr>\n",
       "      <th>0</th>\n",
       "      <td>10</td>\n",
       "      <td>Counter-Strike</td>\n",
       "      <td>6</td>\n",
       "      <td>0</td>\n",
       "      <td>76561197970982479</td>\n",
       "      <td>277</td>\n",
       "      <td>76561197970982479</td>\n",
       "      <td>http://steamcommunity.com/profiles/76561197970...</td>\n",
       "    </tr>\n",
       "    <tr>\n",
       "      <th>1</th>\n",
       "      <td>10</td>\n",
       "      <td>Counter-Strike</td>\n",
       "      <td>0</td>\n",
       "      <td>0</td>\n",
       "      <td>76561198046777634</td>\n",
       "      <td>78</td>\n",
       "      <td>76561198046777634</td>\n",
       "      <td>http://steamcommunity.com/profiles/76561198046...</td>\n",
       "    </tr>\n",
       "    <tr>\n",
       "      <th>2</th>\n",
       "      <td>10</td>\n",
       "      <td>Counter-Strike</td>\n",
       "      <td>0</td>\n",
       "      <td>0</td>\n",
       "      <td>76561198011037361</td>\n",
       "      <td>406</td>\n",
       "      <td>ceige</td>\n",
       "      <td>http://steamcommunity.com/id/ceige</td>\n",
       "    </tr>\n",
       "    <tr>\n",
       "      <th>3</th>\n",
       "      <td>10</td>\n",
       "      <td>Counter-Strike</td>\n",
       "      <td>0</td>\n",
       "      <td>0</td>\n",
       "      <td>76561198040020694</td>\n",
       "      <td>189</td>\n",
       "      <td>xXPOTATOSLADXx</td>\n",
       "      <td>http://steamcommunity.com/id/xXPOTATOSLADXx</td>\n",
       "    </tr>\n",
       "    <tr>\n",
       "      <th>4</th>\n",
       "      <td>10</td>\n",
       "      <td>Counter-Strike</td>\n",
       "      <td>3464</td>\n",
       "      <td>0</td>\n",
       "      <td>76561198045086740</td>\n",
       "      <td>44</td>\n",
       "      <td>KinGJaxeR</td>\n",
       "      <td>http://steamcommunity.com/id/KinGJaxeR</td>\n",
       "    </tr>\n",
       "  </tbody>\n",
       "</table>\n",
       "</div>"
      ],
      "text/plain": [
       "  item_id       item_name  playtime_forever  playtime_2weeks  \\\n",
       "0      10  Counter-Strike                 6                0   \n",
       "1      10  Counter-Strike                 0                0   \n",
       "2      10  Counter-Strike                 0                0   \n",
       "3      10  Counter-Strike                 0                0   \n",
       "4      10  Counter-Strike              3464                0   \n",
       "\n",
       "            steam_id  items_count            user_id  \\\n",
       "0  76561197970982479          277  76561197970982479   \n",
       "1  76561198046777634           78  76561198046777634   \n",
       "2  76561198011037361          406              ceige   \n",
       "3  76561198040020694          189     xXPOTATOSLADXx   \n",
       "4  76561198045086740           44          KinGJaxeR   \n",
       "\n",
       "                                            user_url  \n",
       "0  http://steamcommunity.com/profiles/76561197970...  \n",
       "1  http://steamcommunity.com/profiles/76561198046...  \n",
       "2                 http://steamcommunity.com/id/ceige  \n",
       "3        http://steamcommunity.com/id/xXPOTATOSLADXx  \n",
       "4             http://steamcommunity.com/id/KinGJaxeR  "
      ]
     },
     "execution_count": 18,
     "metadata": {},
     "output_type": "execute_result"
    }
   ],
   "source": [
    "data.head(5)"
   ]
  },
  {
   "cell_type": "code",
   "execution_count": 19,
   "metadata": {},
   "outputs": [],
   "source": [
    "### Create a Pickle file using serialization \n",
    "import pickle\n",
    "pickle_out = open(\"steamItems.pkl\",\"wb\")\n",
    "pickle.dump(data, pickle_out)\n",
    "pickle_out.close()"
   ]
  }
 ],
 "metadata": {
  "kernelspec": {
   "display_name": "Python 3",
   "language": "python",
   "name": "python3"
  },
  "language_info": {
   "codemirror_mode": {
    "name": "ipython",
    "version": 3
   },
   "file_extension": ".py",
   "mimetype": "text/x-python",
   "name": "python",
   "nbconvert_exporter": "python",
   "pygments_lexer": "ipython3",
   "version": "3.11.4"
  },
  "orig_nbformat": 4
 },
 "nbformat": 4,
 "nbformat_minor": 2
}
