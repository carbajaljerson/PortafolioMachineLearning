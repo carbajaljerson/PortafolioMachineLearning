{
 "cells": [
  {
   "cell_type": "markdown",
   "metadata": {},
   "source": [
    "## ETL Dataset Steam Games "
   ]
  },
  {
   "cell_type": "markdown",
   "metadata": {},
   "source": [
    "Exploración del dataset y limpieza"
   ]
  },
  {
   "cell_type": "code",
   "execution_count": 13,
   "metadata": {},
   "outputs": [],
   "source": [
    "# Importacion de librerias\n",
    "import json  \n",
    "import pandas as pd\n",
    "#pandas.options.display.max_rows = 15\n",
    "import numpy as np\n",
    "import re\n",
    "import ast\n",
    "import warnings\n",
    "warnings.filterwarnings('ignore')"
   ]
  },
  {
   "cell_type": "markdown",
   "metadata": {},
   "source": [
    "Existen filas que contienen arreglos y estan presentes en las columna \"Genres\" por lo que se tiene que desagrupar esa columna para poder trabajarlo como un DataFrame"
   ]
  },
  {
   "cell_type": "markdown",
   "metadata": {},
   "source": [
    "Se verificó que la columna \"Tags\" es similar a la columna \"Genres\", lo que nos llevaría a prescindir de esta así como de la columnas: \"url\", \"reviews_url\", \"specs\" y \"early_access\" que no son explicativas para el Proyecto"
   ]
  },
  {
   "cell_type": "code",
   "execution_count": 14,
   "metadata": {},
   "outputs": [
    {
     "data": {
      "text/html": [
       "<div>\n",
       "<style scoped>\n",
       "    .dataframe tbody tr th:only-of-type {\n",
       "        vertical-align: middle;\n",
       "    }\n",
       "\n",
       "    .dataframe tbody tr th {\n",
       "        vertical-align: top;\n",
       "    }\n",
       "\n",
       "    .dataframe thead th {\n",
       "        text-align: right;\n",
       "    }\n",
       "</style>\n",
       "<table border=\"1\" class=\"dataframe\">\n",
       "  <thead>\n",
       "    <tr style=\"text-align: right;\">\n",
       "      <th></th>\n",
       "      <th>publisher</th>\n",
       "      <th>genres</th>\n",
       "      <th>app_name</th>\n",
       "      <th>title</th>\n",
       "      <th>url</th>\n",
       "      <th>release_date</th>\n",
       "      <th>tags</th>\n",
       "      <th>reviews_url</th>\n",
       "      <th>discount_price</th>\n",
       "      <th>specs</th>\n",
       "      <th>price</th>\n",
       "      <th>early_access</th>\n",
       "      <th>id</th>\n",
       "      <th>metascore</th>\n",
       "      <th>developer</th>\n",
       "      <th>user_id</th>\n",
       "      <th>steam_id</th>\n",
       "      <th>items</th>\n",
       "      <th>items_count</th>\n",
       "    </tr>\n",
       "  </thead>\n",
       "  <tbody>\n",
       "    <tr>\n",
       "      <th>120440</th>\n",
       "      <td>Ghost_RUS Games</td>\n",
       "      <td>[Casual, Indie, Simulation, Strategy]</td>\n",
       "      <td>Colony On Mars</td>\n",
       "      <td>Colony On Mars</td>\n",
       "      <td>http://store.steampowered.com/app/773640/Colon...</td>\n",
       "      <td>2018-01-04</td>\n",
       "      <td>[Strategy, Indie, Casual, Simulation]</td>\n",
       "      <td>http://steamcommunity.com/app/773640/reviews/?...</td>\n",
       "      <td>1.49</td>\n",
       "      <td>[Single-player, Steam Achievements]</td>\n",
       "      <td>1.99</td>\n",
       "      <td>0.0</td>\n",
       "      <td>773640.0</td>\n",
       "      <td>None</td>\n",
       "      <td>Nikita \"Ghost_RUS\"</td>\n",
       "      <td>None</td>\n",
       "      <td>NaN</td>\n",
       "      <td>None</td>\n",
       "      <td>NaN</td>\n",
       "    </tr>\n",
       "    <tr>\n",
       "      <th>120441</th>\n",
       "      <td>Sacada</td>\n",
       "      <td>[Casual, Indie, Strategy]</td>\n",
       "      <td>LOGistICAL: South Africa</td>\n",
       "      <td>LOGistICAL: South Africa</td>\n",
       "      <td>http://store.steampowered.com/app/733530/LOGis...</td>\n",
       "      <td>2018-01-04</td>\n",
       "      <td>[Strategy, Indie, Casual]</td>\n",
       "      <td>http://steamcommunity.com/app/733530/reviews/?...</td>\n",
       "      <td>4.24</td>\n",
       "      <td>[Single-player, Steam Achievements, Steam Clou...</td>\n",
       "      <td>4.99</td>\n",
       "      <td>0.0</td>\n",
       "      <td>733530.0</td>\n",
       "      <td>None</td>\n",
       "      <td>Sacada</td>\n",
       "      <td>None</td>\n",
       "      <td>NaN</td>\n",
       "      <td>None</td>\n",
       "      <td>NaN</td>\n",
       "    </tr>\n",
       "    <tr>\n",
       "      <th>120442</th>\n",
       "      <td>Laush Studio</td>\n",
       "      <td>[Indie, Racing, Simulation]</td>\n",
       "      <td>Russian Roads</td>\n",
       "      <td>Russian Roads</td>\n",
       "      <td>http://store.steampowered.com/app/610660/Russi...</td>\n",
       "      <td>2018-01-04</td>\n",
       "      <td>[Indie, Simulation, Racing]</td>\n",
       "      <td>http://steamcommunity.com/app/610660/reviews/?...</td>\n",
       "      <td>1.39</td>\n",
       "      <td>[Single-player, Steam Achievements, Steam Trad...</td>\n",
       "      <td>1.99</td>\n",
       "      <td>0.0</td>\n",
       "      <td>610660.0</td>\n",
       "      <td>None</td>\n",
       "      <td>Laush Dmitriy Sergeevich</td>\n",
       "      <td>None</td>\n",
       "      <td>NaN</td>\n",
       "      <td>None</td>\n",
       "      <td>NaN</td>\n",
       "    </tr>\n",
       "    <tr>\n",
       "      <th>120443</th>\n",
       "      <td>SIXNAILS</td>\n",
       "      <td>[Casual, Indie]</td>\n",
       "      <td>EXIT 2 - Directions</td>\n",
       "      <td>EXIT 2 - Directions</td>\n",
       "      <td>http://store.steampowered.com/app/658870/EXIT_...</td>\n",
       "      <td>2017-09-02</td>\n",
       "      <td>[Indie, Casual, Puzzle, Singleplayer, Atmosphe...</td>\n",
       "      <td>http://steamcommunity.com/app/658870/reviews/?...</td>\n",
       "      <td>NaN</td>\n",
       "      <td>[Single-player, Steam Achievements, Steam Cloud]</td>\n",
       "      <td>4.99</td>\n",
       "      <td>0.0</td>\n",
       "      <td>658870.0</td>\n",
       "      <td>None</td>\n",
       "      <td>xropi,stev3ns</td>\n",
       "      <td>None</td>\n",
       "      <td>NaN</td>\n",
       "      <td>None</td>\n",
       "      <td>NaN</td>\n",
       "    </tr>\n",
       "    <tr>\n",
       "      <th>120444</th>\n",
       "      <td>None</td>\n",
       "      <td>None</td>\n",
       "      <td>Maze Run VR</td>\n",
       "      <td>None</td>\n",
       "      <td>http://store.steampowered.com/app/681550/Maze_...</td>\n",
       "      <td>None</td>\n",
       "      <td>[Early Access, Adventure, Indie, Action, Simul...</td>\n",
       "      <td>http://steamcommunity.com/app/681550/reviews/?...</td>\n",
       "      <td>NaN</td>\n",
       "      <td>[Single-player, Stats, Steam Leaderboards, HTC...</td>\n",
       "      <td>4.99</td>\n",
       "      <td>1.0</td>\n",
       "      <td>681550.0</td>\n",
       "      <td>None</td>\n",
       "      <td>None</td>\n",
       "      <td>None</td>\n",
       "      <td>NaN</td>\n",
       "      <td>None</td>\n",
       "      <td>NaN</td>\n",
       "    </tr>\n",
       "  </tbody>\n",
       "</table>\n",
       "</div>"
      ],
      "text/plain": [
       "              publisher                                 genres  \\\n",
       "120440  Ghost_RUS Games  [Casual, Indie, Simulation, Strategy]   \n",
       "120441           Sacada              [Casual, Indie, Strategy]   \n",
       "120442     Laush Studio            [Indie, Racing, Simulation]   \n",
       "120443         SIXNAILS                        [Casual, Indie]   \n",
       "120444             None                                   None   \n",
       "\n",
       "                        app_name                     title  \\\n",
       "120440            Colony On Mars            Colony On Mars   \n",
       "120441  LOGistICAL: South Africa  LOGistICAL: South Africa   \n",
       "120442             Russian Roads             Russian Roads   \n",
       "120443       EXIT 2 - Directions       EXIT 2 - Directions   \n",
       "120444               Maze Run VR                      None   \n",
       "\n",
       "                                                      url release_date  \\\n",
       "120440  http://store.steampowered.com/app/773640/Colon...   2018-01-04   \n",
       "120441  http://store.steampowered.com/app/733530/LOGis...   2018-01-04   \n",
       "120442  http://store.steampowered.com/app/610660/Russi...   2018-01-04   \n",
       "120443  http://store.steampowered.com/app/658870/EXIT_...   2017-09-02   \n",
       "120444  http://store.steampowered.com/app/681550/Maze_...         None   \n",
       "\n",
       "                                                     tags  \\\n",
       "120440              [Strategy, Indie, Casual, Simulation]   \n",
       "120441                          [Strategy, Indie, Casual]   \n",
       "120442                        [Indie, Simulation, Racing]   \n",
       "120443  [Indie, Casual, Puzzle, Singleplayer, Atmosphe...   \n",
       "120444  [Early Access, Adventure, Indie, Action, Simul...   \n",
       "\n",
       "                                              reviews_url  discount_price  \\\n",
       "120440  http://steamcommunity.com/app/773640/reviews/?...            1.49   \n",
       "120441  http://steamcommunity.com/app/733530/reviews/?...            4.24   \n",
       "120442  http://steamcommunity.com/app/610660/reviews/?...            1.39   \n",
       "120443  http://steamcommunity.com/app/658870/reviews/?...             NaN   \n",
       "120444  http://steamcommunity.com/app/681550/reviews/?...             NaN   \n",
       "\n",
       "                                                    specs price  early_access  \\\n",
       "120440                [Single-player, Steam Achievements]  1.99           0.0   \n",
       "120441  [Single-player, Steam Achievements, Steam Clou...  4.99           0.0   \n",
       "120442  [Single-player, Steam Achievements, Steam Trad...  1.99           0.0   \n",
       "120443   [Single-player, Steam Achievements, Steam Cloud]  4.99           0.0   \n",
       "120444  [Single-player, Stats, Steam Leaderboards, HTC...  4.99           1.0   \n",
       "\n",
       "              id metascore                 developer user_id  steam_id items  \\\n",
       "120440  773640.0      None        Nikita \"Ghost_RUS\"    None       NaN  None   \n",
       "120441  733530.0      None                    Sacada    None       NaN  None   \n",
       "120442  610660.0      None  Laush Dmitriy Sergeevich    None       NaN  None   \n",
       "120443  658870.0      None             xropi,stev3ns    None       NaN  None   \n",
       "120444  681550.0      None                      None    None       NaN  None   \n",
       "\n",
       "        items_count  \n",
       "120440          NaN  \n",
       "120441          NaN  \n",
       "120442          NaN  \n",
       "120443          NaN  \n",
       "120444          NaN  "
      ]
     },
     "execution_count": 14,
     "metadata": {},
     "output_type": "execute_result"
    }
   ],
   "source": [
    "dataGames = pd.read_json('output_steam_games.json', lines=True)\n",
    "dataGames.tail(5)"
   ]
  },
  {
   "cell_type": "markdown",
   "metadata": {},
   "source": [
    "Esto convertirá nuestro archivo JSON en un marco de datos de pandas."
   ]
  },
  {
   "cell_type": "code",
   "execution_count": 15,
   "metadata": {},
   "outputs": [],
   "source": [
    "rows = []\n",
    "with open('output_steam_games.json') as json_file:\n",
    "    for line in json_file:\n",
    "        rows.append(json.loads(line))"
   ]
  },
  {
   "cell_type": "code",
   "execution_count": 16,
   "metadata": {},
   "outputs": [
    {
     "data": {
      "text/plain": [
       "(71554, 10)"
      ]
     },
     "execution_count": 16,
     "metadata": {},
     "output_type": "execute_result"
    }
   ],
   "source": [
    "data = pd.json_normalize(rows, record_path=['genres'], meta=['publisher', 'app_name','title','release_date','price','id','developer','items_count','metascore'])\n",
    "data.shape"
   ]
  },
  {
   "cell_type": "code",
   "execution_count": 17,
   "metadata": {},
   "outputs": [],
   "source": [
    "data.rename(columns={0:'genres'}, inplace=True)"
   ]
  },
  {
   "cell_type": "code",
   "execution_count": 18,
   "metadata": {},
   "outputs": [
    {
     "name": "stdout",
     "output_type": "stream",
     "text": [
      "<class 'pandas.core.frame.DataFrame'>\n",
      "RangeIndex: 71554 entries, 0 to 71553\n",
      "Data columns (total 10 columns):\n",
      " #   Column        Non-Null Count  Dtype \n",
      "---  ------        --------------  ----- \n",
      " 0   genres        71554 non-null  object\n",
      " 1   publisher     59115 non-null  object\n",
      " 2   app_name      71552 non-null  object\n",
      " 3   title         71552 non-null  object\n",
      " 4   release_date  71501 non-null  object\n",
      " 5   price         68355 non-null  object\n",
      " 6   id            71552 non-null  object\n",
      " 7   developer     71204 non-null  object\n",
      " 8   items_count   0 non-null      object\n",
      " 9   metascore     5470 non-null   object\n",
      "dtypes: object(10)\n",
      "memory usage: 5.5+ MB\n"
     ]
    }
   ],
   "source": [
    "data.info()"
   ]
  },
  {
   "cell_type": "code",
   "execution_count": 19,
   "metadata": {},
   "outputs": [
    {
     "data": {
      "text/plain": [
       "array([nan, 96, 84, 80, 76, 70, 'NA', 69, 81, 75, 72, 66, 67, 77, 91, 89,\n",
       "       83, 61, 88, 65, 94, 57, 86, 87, 92, 79, 82, 58, 74, 85, 90, 68, 71,\n",
       "       60, 73, 59, 64, 54, 53, 78, 51, 44, 63, 38, 56, 49, 52, 62, 93, 48,\n",
       "       34, 95, 43, 55, 24, 46, 41, 20, 39, 45, 35, 47, 40, 36, 50, 32, 37,\n",
       "       33, 42, 27, 29, 30], dtype=object)"
      ]
     },
     "execution_count": 19,
     "metadata": {},
     "output_type": "execute_result"
    }
   ],
   "source": [
    "data.metascore.unique()"
   ]
  },
  {
   "cell_type": "code",
   "execution_count": 20,
   "metadata": {},
   "outputs": [
    {
     "data": {
      "text/html": [
       "<div>\n",
       "<style scoped>\n",
       "    .dataframe tbody tr th:only-of-type {\n",
       "        vertical-align: middle;\n",
       "    }\n",
       "\n",
       "    .dataframe tbody tr th {\n",
       "        vertical-align: top;\n",
       "    }\n",
       "\n",
       "    .dataframe thead th {\n",
       "        text-align: right;\n",
       "    }\n",
       "</style>\n",
       "<table border=\"1\" class=\"dataframe\">\n",
       "  <thead>\n",
       "    <tr style=\"text-align: right;\">\n",
       "      <th></th>\n",
       "      <th>genres</th>\n",
       "      <th>publisher</th>\n",
       "      <th>app_name</th>\n",
       "      <th>title</th>\n",
       "      <th>release_date</th>\n",
       "      <th>price</th>\n",
       "      <th>id</th>\n",
       "      <th>developer</th>\n",
       "      <th>items_count</th>\n",
       "      <th>metascore</th>\n",
       "    </tr>\n",
       "  </thead>\n",
       "  <tbody>\n",
       "    <tr>\n",
       "      <th>71549</th>\n",
       "      <td>Indie</td>\n",
       "      <td>Laush Studio</td>\n",
       "      <td>Russian Roads</td>\n",
       "      <td>Russian Roads</td>\n",
       "      <td>2018-01-04</td>\n",
       "      <td>1.99</td>\n",
       "      <td>610660</td>\n",
       "      <td>Laush Dmitriy Sergeevich</td>\n",
       "      <td>NaN</td>\n",
       "      <td>NaN</td>\n",
       "    </tr>\n",
       "    <tr>\n",
       "      <th>71550</th>\n",
       "      <td>Racing</td>\n",
       "      <td>Laush Studio</td>\n",
       "      <td>Russian Roads</td>\n",
       "      <td>Russian Roads</td>\n",
       "      <td>2018-01-04</td>\n",
       "      <td>1.99</td>\n",
       "      <td>610660</td>\n",
       "      <td>Laush Dmitriy Sergeevich</td>\n",
       "      <td>NaN</td>\n",
       "      <td>NaN</td>\n",
       "    </tr>\n",
       "    <tr>\n",
       "      <th>71551</th>\n",
       "      <td>Simulation</td>\n",
       "      <td>Laush Studio</td>\n",
       "      <td>Russian Roads</td>\n",
       "      <td>Russian Roads</td>\n",
       "      <td>2018-01-04</td>\n",
       "      <td>1.99</td>\n",
       "      <td>610660</td>\n",
       "      <td>Laush Dmitriy Sergeevich</td>\n",
       "      <td>NaN</td>\n",
       "      <td>NaN</td>\n",
       "    </tr>\n",
       "    <tr>\n",
       "      <th>71552</th>\n",
       "      <td>Casual</td>\n",
       "      <td>SIXNAILS</td>\n",
       "      <td>EXIT 2 - Directions</td>\n",
       "      <td>EXIT 2 - Directions</td>\n",
       "      <td>2017-09-02</td>\n",
       "      <td>4.99</td>\n",
       "      <td>658870</td>\n",
       "      <td>xropi,stev3ns</td>\n",
       "      <td>NaN</td>\n",
       "      <td>NaN</td>\n",
       "    </tr>\n",
       "    <tr>\n",
       "      <th>71553</th>\n",
       "      <td>Indie</td>\n",
       "      <td>SIXNAILS</td>\n",
       "      <td>EXIT 2 - Directions</td>\n",
       "      <td>EXIT 2 - Directions</td>\n",
       "      <td>2017-09-02</td>\n",
       "      <td>4.99</td>\n",
       "      <td>658870</td>\n",
       "      <td>xropi,stev3ns</td>\n",
       "      <td>NaN</td>\n",
       "      <td>NaN</td>\n",
       "    </tr>\n",
       "  </tbody>\n",
       "</table>\n",
       "</div>"
      ],
      "text/plain": [
       "           genres     publisher             app_name                title  \\\n",
       "71549       Indie  Laush Studio        Russian Roads        Russian Roads   \n",
       "71550      Racing  Laush Studio        Russian Roads        Russian Roads   \n",
       "71551  Simulation  Laush Studio        Russian Roads        Russian Roads   \n",
       "71552      Casual      SIXNAILS  EXIT 2 - Directions  EXIT 2 - Directions   \n",
       "71553       Indie      SIXNAILS  EXIT 2 - Directions  EXIT 2 - Directions   \n",
       "\n",
       "      release_date price      id                 developer items_count  \\\n",
       "71549   2018-01-04  1.99  610660  Laush Dmitriy Sergeevich         NaN   \n",
       "71550   2018-01-04  1.99  610660  Laush Dmitriy Sergeevich         NaN   \n",
       "71551   2018-01-04  1.99  610660  Laush Dmitriy Sergeevich         NaN   \n",
       "71552   2017-09-02  4.99  658870             xropi,stev3ns         NaN   \n",
       "71553   2017-09-02  4.99  658870             xropi,stev3ns         NaN   \n",
       "\n",
       "      metascore  \n",
       "71549       NaN  \n",
       "71550       NaN  \n",
       "71551       NaN  \n",
       "71552       NaN  \n",
       "71553       NaN  "
      ]
     },
     "execution_count": 20,
     "metadata": {},
     "output_type": "execute_result"
    }
   ],
   "source": [
    "data.tail(5)"
   ]
  },
  {
   "cell_type": "code",
   "execution_count": 21,
   "metadata": {},
   "outputs": [
    {
     "name": "stdout",
     "output_type": "stream",
     "text": [
      "<class 'pandas.core.frame.DataFrame'>\n",
      "RangeIndex: 71554 entries, 0 to 71553\n",
      "Data columns (total 10 columns):\n",
      " #   Column        Non-Null Count  Dtype \n",
      "---  ------        --------------  ----- \n",
      " 0   genres        71554 non-null  object\n",
      " 1   publisher     59115 non-null  object\n",
      " 2   app_name      71552 non-null  object\n",
      " 3   title         71552 non-null  object\n",
      " 4   release_date  71501 non-null  object\n",
      " 5   price         68355 non-null  object\n",
      " 6   id            71552 non-null  object\n",
      " 7   developer     71204 non-null  object\n",
      " 8   items_count   0 non-null      object\n",
      " 9   metascore     5470 non-null   object\n",
      "dtypes: object(10)\n",
      "memory usage: 5.5+ MB\n"
     ]
    }
   ],
   "source": [
    "data.info()"
   ]
  },
  {
   "cell_type": "markdown",
   "metadata": {},
   "source": [
    "Capitalizando la primera letra de cada palabra"
   ]
  },
  {
   "cell_type": "code",
   "execution_count": 22,
   "metadata": {},
   "outputs": [],
   "source": [
    "data['publisher'] = data['publisher'].str.title()\n",
    "data['genres'] = data['genres'].str.title()\n",
    "data['title'] = data['title'].str.title()\n",
    "data['app_name'] = data['app_name'].str.title()\n",
    "data['developer'] = data['developer'].str.title()"
   ]
  },
  {
   "cell_type": "markdown",
   "metadata": {},
   "source": [
    "Vericando si hay registros duplicados"
   ]
  },
  {
   "cell_type": "code",
   "execution_count": 23,
   "metadata": {},
   "outputs": [
    {
     "data": {
      "text/plain": [
       "20"
      ]
     },
     "execution_count": 23,
     "metadata": {},
     "output_type": "execute_result"
    }
   ],
   "source": [
    "data[data.duplicated(keep=False)].size"
   ]
  },
  {
   "cell_type": "code",
   "execution_count": 24,
   "metadata": {},
   "outputs": [],
   "source": [
    "# Remover registros duplicados\n",
    "\n",
    "data = data.drop_duplicates()\n",
    "data.reset_index(drop=True,inplace=True)"
   ]
  },
  {
   "cell_type": "code",
   "execution_count": 25,
   "metadata": {},
   "outputs": [
    {
     "data": {
      "text/plain": [
       "0"
      ]
     },
     "execution_count": 25,
     "metadata": {},
     "output_type": "execute_result"
    }
   ],
   "source": [
    "data[data.duplicated(keep=False)].size"
   ]
  },
  {
   "cell_type": "code",
   "execution_count": 26,
   "metadata": {},
   "outputs": [
    {
     "data": {
      "text/plain": [
       "(71553, 10)"
      ]
     },
     "execution_count": 26,
     "metadata": {},
     "output_type": "execute_result"
    }
   ],
   "source": [
    "data.shape"
   ]
  },
  {
   "cell_type": "code",
   "execution_count": 27,
   "metadata": {},
   "outputs": [
    {
     "data": {
      "text/plain": [
       "genres              0\n",
       "publisher       12439\n",
       "app_name            2\n",
       "title               2\n",
       "release_date       53\n",
       "price            3199\n",
       "id                  2\n",
       "developer         350\n",
       "items_count     71553\n",
       "metascore       66084\n",
       "dtype: int64"
      ]
     },
     "execution_count": 27,
     "metadata": {},
     "output_type": "execute_result"
    }
   ],
   "source": [
    "data.isnull().sum()"
   ]
  },
  {
   "cell_type": "code",
   "execution_count": 28,
   "metadata": {},
   "outputs": [],
   "source": [
    "data['genres'].fillna('Sin Dato', inplace=True)\n",
    "data['publisher'].fillna('Sin Dato', inplace=True)\n",
    "data['app_name'].fillna('Sin Dato', inplace=True)\n",
    "data['title'].fillna('Sin Dato', inplace=True)\n",
    "data['release_date'].fillna('', inplace=True)\n",
    "data['metascore'].fillna('', inplace=True)\n",
    "data['developer'].fillna('Sin Dato', inplace=True)\n"
   ]
  },
  {
   "cell_type": "code",
   "execution_count": 29,
   "metadata": {},
   "outputs": [
    {
     "data": {
      "text/plain": [
       "genres              0\n",
       "publisher           0\n",
       "app_name            0\n",
       "title               0\n",
       "release_date        0\n",
       "price            3199\n",
       "id                  2\n",
       "developer           0\n",
       "items_count     71553\n",
       "metascore           0\n",
       "dtype: int64"
      ]
     },
     "execution_count": 29,
     "metadata": {},
     "output_type": "execute_result"
    }
   ],
   "source": [
    "data.isnull().sum()"
   ]
  },
  {
   "cell_type": "markdown",
   "metadata": {},
   "source": [
    "Se prescinde de la columna 'release_date' y se toma el Año para la creación de una nueva columna\n"
   ]
  },
  {
   "cell_type": "code",
   "execution_count": 30,
   "metadata": {},
   "outputs": [],
   "source": [
    "data['release_date'] = pd.to_datetime(data['release_date'], format='%Y-%m-%d', errors='coerce')\n",
    "data['release_year'] = data['release_date'].dt.year\n",
    "data['release_year'] = data['release_year'].astype('Int64')"
   ]
  },
  {
   "cell_type": "code",
   "execution_count": 31,
   "metadata": {},
   "outputs": [],
   "source": [
    "data.drop(columns=['release_date'], inplace=True)\n"
   ]
  },
  {
   "cell_type": "code",
   "execution_count": 32,
   "metadata": {},
   "outputs": [],
   "source": [
    "data['release_year'].fillna(0, inplace=True)"
   ]
  },
  {
   "cell_type": "markdown",
   "metadata": {},
   "source": [
    "Verificando los valores de la Columna price debería ser Float\n"
   ]
  },
  {
   "cell_type": "code",
   "execution_count": 33,
   "metadata": {},
   "outputs": [],
   "source": [
    "# Extracción del string de la columna price\n",
    "data['free_play'] = data['price'].str.extract(r'([A-Za-z\\s]+)')"
   ]
  },
  {
   "cell_type": "code",
   "execution_count": 34,
   "metadata": {},
   "outputs": [],
   "source": [
    "data['free_play'] = data['free_play'].replace(np.nan, 'Sin Dato')\n",
    "data['metascore'] = data['metascore'].replace('NA', 0)"
   ]
  },
  {
   "cell_type": "code",
   "execution_count": 35,
   "metadata": {},
   "outputs": [],
   "source": [
    "#Conversion a numerico\n",
    "data['price'] = pd.to_numeric(data['price'], errors='coerce')\n",
    "data['metascore'] = pd.to_numeric(data['metascore'], errors='coerce')"
   ]
  },
  {
   "cell_type": "code",
   "execution_count": 36,
   "metadata": {},
   "outputs": [],
   "source": [
    "data['price'] = data['price'].replace(np.nan, 0)\n",
    "data['metascore'] = data['metascore'].replace(np.nan, 0)"
   ]
  },
  {
   "cell_type": "code",
   "execution_count": 37,
   "metadata": {},
   "outputs": [],
   "source": [
    "data['id'] = data['id'].replace(np.nan, 0)"
   ]
  },
  {
   "cell_type": "code",
   "execution_count": 38,
   "metadata": {},
   "outputs": [],
   "source": [
    "data.rename(columns={'id': 'item_id'}, inplace=True)"
   ]
  },
  {
   "cell_type": "code",
   "execution_count": 39,
   "metadata": {},
   "outputs": [],
   "source": [
    "data = data.drop(data[data['release_year']==0].index)"
   ]
  },
  {
   "cell_type": "code",
   "execution_count": 40,
   "metadata": {},
   "outputs": [],
   "source": [
    "data = data.reset_index(drop=True)"
   ]
  },
  {
   "cell_type": "code",
   "execution_count": 41,
   "metadata": {},
   "outputs": [
    {
     "data": {
      "text/plain": [
       "genres              0\n",
       "publisher           0\n",
       "app_name            0\n",
       "title               0\n",
       "price               0\n",
       "item_id             0\n",
       "developer           0\n",
       "items_count     70703\n",
       "metascore           0\n",
       "release_year        0\n",
       "free_play           0\n",
       "dtype: int64"
      ]
     },
     "execution_count": 41,
     "metadata": {},
     "output_type": "execute_result"
    }
   ],
   "source": [
    "data.isnull().sum()"
   ]
  },
  {
   "cell_type": "code",
   "execution_count": 42,
   "metadata": {},
   "outputs": [
    {
     "name": "stdout",
     "output_type": "stream",
     "text": [
      "<class 'pandas.core.frame.DataFrame'>\n",
      "RangeIndex: 70703 entries, 0 to 70702\n",
      "Data columns (total 11 columns):\n",
      " #   Column        Non-Null Count  Dtype  \n",
      "---  ------        --------------  -----  \n",
      " 0   genres        70703 non-null  object \n",
      " 1   publisher     70703 non-null  object \n",
      " 2   app_name      70703 non-null  object \n",
      " 3   title         70703 non-null  object \n",
      " 4   price         70703 non-null  float64\n",
      " 5   item_id       70703 non-null  object \n",
      " 6   developer     70703 non-null  object \n",
      " 7   items_count   0 non-null      object \n",
      " 8   metascore     70703 non-null  float64\n",
      " 9   release_year  70703 non-null  Int64  \n",
      " 10  free_play     70703 non-null  object \n",
      "dtypes: Int64(1), float64(2), object(8)\n",
      "memory usage: 6.0+ MB\n"
     ]
    }
   ],
   "source": [
    "data.info()"
   ]
  },
  {
   "cell_type": "code",
   "execution_count": 43,
   "metadata": {},
   "outputs": [
    {
     "data": {
      "text/html": [
       "<div>\n",
       "<style scoped>\n",
       "    .dataframe tbody tr th:only-of-type {\n",
       "        vertical-align: middle;\n",
       "    }\n",
       "\n",
       "    .dataframe tbody tr th {\n",
       "        vertical-align: top;\n",
       "    }\n",
       "\n",
       "    .dataframe thead th {\n",
       "        text-align: right;\n",
       "    }\n",
       "</style>\n",
       "<table border=\"1\" class=\"dataframe\">\n",
       "  <thead>\n",
       "    <tr style=\"text-align: right;\">\n",
       "      <th></th>\n",
       "      <th>genres</th>\n",
       "      <th>publisher</th>\n",
       "      <th>app_name</th>\n",
       "      <th>title</th>\n",
       "      <th>price</th>\n",
       "      <th>item_id</th>\n",
       "      <th>developer</th>\n",
       "      <th>items_count</th>\n",
       "      <th>metascore</th>\n",
       "      <th>release_year</th>\n",
       "      <th>free_play</th>\n",
       "    </tr>\n",
       "  </thead>\n",
       "  <tbody>\n",
       "    <tr>\n",
       "      <th>70693</th>\n",
       "      <td>Simulation</td>\n",
       "      <td>Ghost_Rus Games</td>\n",
       "      <td>Colony On Mars</td>\n",
       "      <td>Colony On Mars</td>\n",
       "      <td>1.99</td>\n",
       "      <td>773640</td>\n",
       "      <td>Nikita \"Ghost_Rus\"</td>\n",
       "      <td>NaN</td>\n",
       "      <td>0.0</td>\n",
       "      <td>2018</td>\n",
       "      <td>Sin Dato</td>\n",
       "    </tr>\n",
       "    <tr>\n",
       "      <th>70694</th>\n",
       "      <td>Strategy</td>\n",
       "      <td>Ghost_Rus Games</td>\n",
       "      <td>Colony On Mars</td>\n",
       "      <td>Colony On Mars</td>\n",
       "      <td>1.99</td>\n",
       "      <td>773640</td>\n",
       "      <td>Nikita \"Ghost_Rus\"</td>\n",
       "      <td>NaN</td>\n",
       "      <td>0.0</td>\n",
       "      <td>2018</td>\n",
       "      <td>Sin Dato</td>\n",
       "    </tr>\n",
       "    <tr>\n",
       "      <th>70695</th>\n",
       "      <td>Casual</td>\n",
       "      <td>Sacada</td>\n",
       "      <td>Logistical: South Africa</td>\n",
       "      <td>Logistical: South Africa</td>\n",
       "      <td>4.99</td>\n",
       "      <td>733530</td>\n",
       "      <td>Sacada</td>\n",
       "      <td>NaN</td>\n",
       "      <td>0.0</td>\n",
       "      <td>2018</td>\n",
       "      <td>Sin Dato</td>\n",
       "    </tr>\n",
       "    <tr>\n",
       "      <th>70696</th>\n",
       "      <td>Indie</td>\n",
       "      <td>Sacada</td>\n",
       "      <td>Logistical: South Africa</td>\n",
       "      <td>Logistical: South Africa</td>\n",
       "      <td>4.99</td>\n",
       "      <td>733530</td>\n",
       "      <td>Sacada</td>\n",
       "      <td>NaN</td>\n",
       "      <td>0.0</td>\n",
       "      <td>2018</td>\n",
       "      <td>Sin Dato</td>\n",
       "    </tr>\n",
       "    <tr>\n",
       "      <th>70697</th>\n",
       "      <td>Strategy</td>\n",
       "      <td>Sacada</td>\n",
       "      <td>Logistical: South Africa</td>\n",
       "      <td>Logistical: South Africa</td>\n",
       "      <td>4.99</td>\n",
       "      <td>733530</td>\n",
       "      <td>Sacada</td>\n",
       "      <td>NaN</td>\n",
       "      <td>0.0</td>\n",
       "      <td>2018</td>\n",
       "      <td>Sin Dato</td>\n",
       "    </tr>\n",
       "    <tr>\n",
       "      <th>70698</th>\n",
       "      <td>Indie</td>\n",
       "      <td>Laush Studio</td>\n",
       "      <td>Russian Roads</td>\n",
       "      <td>Russian Roads</td>\n",
       "      <td>1.99</td>\n",
       "      <td>610660</td>\n",
       "      <td>Laush Dmitriy Sergeevich</td>\n",
       "      <td>NaN</td>\n",
       "      <td>0.0</td>\n",
       "      <td>2018</td>\n",
       "      <td>Sin Dato</td>\n",
       "    </tr>\n",
       "    <tr>\n",
       "      <th>70699</th>\n",
       "      <td>Racing</td>\n",
       "      <td>Laush Studio</td>\n",
       "      <td>Russian Roads</td>\n",
       "      <td>Russian Roads</td>\n",
       "      <td>1.99</td>\n",
       "      <td>610660</td>\n",
       "      <td>Laush Dmitriy Sergeevich</td>\n",
       "      <td>NaN</td>\n",
       "      <td>0.0</td>\n",
       "      <td>2018</td>\n",
       "      <td>Sin Dato</td>\n",
       "    </tr>\n",
       "    <tr>\n",
       "      <th>70700</th>\n",
       "      <td>Simulation</td>\n",
       "      <td>Laush Studio</td>\n",
       "      <td>Russian Roads</td>\n",
       "      <td>Russian Roads</td>\n",
       "      <td>1.99</td>\n",
       "      <td>610660</td>\n",
       "      <td>Laush Dmitriy Sergeevich</td>\n",
       "      <td>NaN</td>\n",
       "      <td>0.0</td>\n",
       "      <td>2018</td>\n",
       "      <td>Sin Dato</td>\n",
       "    </tr>\n",
       "    <tr>\n",
       "      <th>70701</th>\n",
       "      <td>Casual</td>\n",
       "      <td>Sixnails</td>\n",
       "      <td>Exit 2 - Directions</td>\n",
       "      <td>Exit 2 - Directions</td>\n",
       "      <td>4.99</td>\n",
       "      <td>658870</td>\n",
       "      <td>Xropi,Stev3Ns</td>\n",
       "      <td>NaN</td>\n",
       "      <td>0.0</td>\n",
       "      <td>2017</td>\n",
       "      <td>Sin Dato</td>\n",
       "    </tr>\n",
       "    <tr>\n",
       "      <th>70702</th>\n",
       "      <td>Indie</td>\n",
       "      <td>Sixnails</td>\n",
       "      <td>Exit 2 - Directions</td>\n",
       "      <td>Exit 2 - Directions</td>\n",
       "      <td>4.99</td>\n",
       "      <td>658870</td>\n",
       "      <td>Xropi,Stev3Ns</td>\n",
       "      <td>NaN</td>\n",
       "      <td>0.0</td>\n",
       "      <td>2017</td>\n",
       "      <td>Sin Dato</td>\n",
       "    </tr>\n",
       "  </tbody>\n",
       "</table>\n",
       "</div>"
      ],
      "text/plain": [
       "           genres        publisher                  app_name  \\\n",
       "70693  Simulation  Ghost_Rus Games            Colony On Mars   \n",
       "70694    Strategy  Ghost_Rus Games            Colony On Mars   \n",
       "70695      Casual           Sacada  Logistical: South Africa   \n",
       "70696       Indie           Sacada  Logistical: South Africa   \n",
       "70697    Strategy           Sacada  Logistical: South Africa   \n",
       "70698       Indie     Laush Studio             Russian Roads   \n",
       "70699      Racing     Laush Studio             Russian Roads   \n",
       "70700  Simulation     Laush Studio             Russian Roads   \n",
       "70701      Casual         Sixnails       Exit 2 - Directions   \n",
       "70702       Indie         Sixnails       Exit 2 - Directions   \n",
       "\n",
       "                          title  price item_id                 developer  \\\n",
       "70693            Colony On Mars   1.99  773640        Nikita \"Ghost_Rus\"   \n",
       "70694            Colony On Mars   1.99  773640        Nikita \"Ghost_Rus\"   \n",
       "70695  Logistical: South Africa   4.99  733530                    Sacada   \n",
       "70696  Logistical: South Africa   4.99  733530                    Sacada   \n",
       "70697  Logistical: South Africa   4.99  733530                    Sacada   \n",
       "70698             Russian Roads   1.99  610660  Laush Dmitriy Sergeevich   \n",
       "70699             Russian Roads   1.99  610660  Laush Dmitriy Sergeevich   \n",
       "70700             Russian Roads   1.99  610660  Laush Dmitriy Sergeevich   \n",
       "70701       Exit 2 - Directions   4.99  658870             Xropi,Stev3Ns   \n",
       "70702       Exit 2 - Directions   4.99  658870             Xropi,Stev3Ns   \n",
       "\n",
       "      items_count  metascore  release_year free_play  \n",
       "70693         NaN        0.0          2018  Sin Dato  \n",
       "70694         NaN        0.0          2018  Sin Dato  \n",
       "70695         NaN        0.0          2018  Sin Dato  \n",
       "70696         NaN        0.0          2018  Sin Dato  \n",
       "70697         NaN        0.0          2018  Sin Dato  \n",
       "70698         NaN        0.0          2018  Sin Dato  \n",
       "70699         NaN        0.0          2018  Sin Dato  \n",
       "70700         NaN        0.0          2018  Sin Dato  \n",
       "70701         NaN        0.0          2017  Sin Dato  \n",
       "70702         NaN        0.0          2017  Sin Dato  "
      ]
     },
     "execution_count": 43,
     "metadata": {},
     "output_type": "execute_result"
    }
   ],
   "source": [
    "data.tail(10)"
   ]
  },
  {
   "cell_type": "code",
   "execution_count": 44,
   "metadata": {},
   "outputs": [
    {
     "name": "stdout",
     "output_type": "stream",
     "text": [
      "Numero de filas duplicadas = 0\n"
     ]
    }
   ],
   "source": [
    "print(f\"Numero de filas duplicadas = {data.duplicated().sum()}\")"
   ]
  },
  {
   "cell_type": "code",
   "execution_count": 45,
   "metadata": {},
   "outputs": [],
   "source": [
    "### Create a Pickle file using serialization \n",
    "import pickle\n",
    "pickle_out = open(\"steamGames.pkl\",\"wb\")\n",
    "pickle.dump(data, pickle_out)\n",
    "pickle_out.close()"
   ]
  }
 ],
 "metadata": {
  "kernelspec": {
   "display_name": "Python 3",
   "language": "python",
   "name": "python3"
  },
  "language_info": {
   "codemirror_mode": {
    "name": "ipython",
    "version": 3
   },
   "file_extension": ".py",
   "mimetype": "text/x-python",
   "name": "python",
   "nbconvert_exporter": "python",
   "pygments_lexer": "ipython3",
   "version": "3.11.4"
  },
  "orig_nbformat": 4
 },
 "nbformat": 4,
 "nbformat_minor": 2
}
