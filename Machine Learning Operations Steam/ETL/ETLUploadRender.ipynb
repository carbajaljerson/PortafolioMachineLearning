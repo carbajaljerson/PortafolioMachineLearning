{
 "cells": [
  {
   "cell_type": "code",
   "execution_count": 1,
   "metadata": {},
   "outputs": [],
   "source": [
    "# Importacion de librerias\n",
    "import json  \n",
    "import pandas as pd\n",
    "import numpy as np\n",
    "import re\n",
    "import ast\n",
    "import pickle\n",
    "import warnings\n",
    "warnings.filterwarnings('ignore')"
   ]
  },
  {
   "cell_type": "code",
   "execution_count": 2,
   "metadata": {},
   "outputs": [],
   "source": [
    "with open(\"../data/steamGames.pkl\", \"rb\") as file1:\n",
    "    dataGames = pickle.load(file1)\n",
    "    \n",
    "with open(\"../data/steamReviews.pkl\", \"rb\") as file2:\n",
    "    dataReviews = pickle.load(file2)\n",
    "    \n",
    "with open(\"../data/steamItems.pkl\", \"rb\") as file3:\n",
    "    dataItems = pickle.load(file3)"
   ]
  },
  {
   "cell_type": "code",
   "execution_count": 3,
   "metadata": {},
   "outputs": [],
   "source": [
    "dataUser = pd.merge(dataItems,dataReviews,on=['user_id','item_id','user_url'],how='outer')    \n",
    "    "
   ]
  },
  {
   "cell_type": "markdown",
   "metadata": {},
   "source": [
    "## DataFrame UserData"
   ]
  },
  {
   "cell_type": "code",
   "execution_count": 69,
   "metadata": {},
   "outputs": [],
   "source": [
    "dfGames=dataGames[['item_id','price']]\n",
    "dfUser =dataUser[['item_id','user_id','recommend','posted']]\n",
    "dfUserData = pd.merge(dfUser,dfGames,on='item_id',how='outer')\n",
    "\n",
    "dfUserData = dfUserData.dropna(subset=['user_id'])\n",
    "dfUserData = dfUserData.reset_index(drop=True)\n",
    "dfUserData = dfUserData.drop_duplicates()\n",
    "dfUserData.reset_index(drop=True,inplace=True)\n",
    "dfUserData['price'] = dfUserData['price'].replace(np.nan, 0)"
   ]
  },
  {
   "cell_type": "code",
   "execution_count": 70,
   "metadata": {},
   "outputs": [
    {
     "data": {
      "text/plain": [
       "(5108327, 5)"
      ]
     },
     "execution_count": 70,
     "metadata": {},
     "output_type": "execute_result"
    }
   ],
   "source": [
    "dfUserData.shape"
   ]
  },
  {
   "cell_type": "code",
   "execution_count": 71,
   "metadata": {},
   "outputs": [
    {
     "data": {
      "text/html": [
       "<div>\n",
       "<style scoped>\n",
       "    .dataframe tbody tr th:only-of-type {\n",
       "        vertical-align: middle;\n",
       "    }\n",
       "\n",
       "    .dataframe tbody tr th {\n",
       "        vertical-align: top;\n",
       "    }\n",
       "\n",
       "    .dataframe thead th {\n",
       "        text-align: right;\n",
       "    }\n",
       "</style>\n",
       "<table border=\"1\" class=\"dataframe\">\n",
       "  <thead>\n",
       "    <tr style=\"text-align: right;\">\n",
       "      <th></th>\n",
       "      <th>item_id</th>\n",
       "      <th>user_id</th>\n",
       "      <th>recommend</th>\n",
       "      <th>posted</th>\n",
       "      <th>price</th>\n",
       "    </tr>\n",
       "  </thead>\n",
       "  <tbody>\n",
       "    <tr>\n",
       "      <th>0</th>\n",
       "      <td>10</td>\n",
       "      <td>76561197970982479</td>\n",
       "      <td>NaN</td>\n",
       "      <td>NaN</td>\n",
       "      <td>9.99</td>\n",
       "    </tr>\n",
       "    <tr>\n",
       "      <th>1</th>\n",
       "      <td>10</td>\n",
       "      <td>76561198046777634</td>\n",
       "      <td>NaN</td>\n",
       "      <td>NaN</td>\n",
       "      <td>9.99</td>\n",
       "    </tr>\n",
       "    <tr>\n",
       "      <th>2</th>\n",
       "      <td>10</td>\n",
       "      <td>ceige</td>\n",
       "      <td>NaN</td>\n",
       "      <td>NaN</td>\n",
       "      <td>9.99</td>\n",
       "    </tr>\n",
       "    <tr>\n",
       "      <th>3</th>\n",
       "      <td>10</td>\n",
       "      <td>xXPOTATOSLADXx</td>\n",
       "      <td>NaN</td>\n",
       "      <td>NaN</td>\n",
       "      <td>9.99</td>\n",
       "    </tr>\n",
       "    <tr>\n",
       "      <th>4</th>\n",
       "      <td>10</td>\n",
       "      <td>KinGJaxeR</td>\n",
       "      <td>NaN</td>\n",
       "      <td>NaN</td>\n",
       "      <td>9.99</td>\n",
       "    </tr>\n",
       "    <tr>\n",
       "      <th>...</th>\n",
       "      <td>...</td>\n",
       "      <td>...</td>\n",
       "      <td>...</td>\n",
       "      <td>...</td>\n",
       "      <td>...</td>\n",
       "    </tr>\n",
       "    <tr>\n",
       "      <th>5108322</th>\n",
       "      <td>91333</td>\n",
       "      <td>LucasArthur</td>\n",
       "      <td>True</td>\n",
       "      <td>2015-04-02</td>\n",
       "      <td>0.00</td>\n",
       "    </tr>\n",
       "    <tr>\n",
       "      <th>5108323</th>\n",
       "      <td>92500</td>\n",
       "      <td>XUXU23456789</td>\n",
       "      <td>True</td>\n",
       "      <td>2013-12-14</td>\n",
       "      <td>0.00</td>\n",
       "    </tr>\n",
       "    <tr>\n",
       "      <th>5108324</th>\n",
       "      <td>92500</td>\n",
       "      <td>L0RDVAD3R</td>\n",
       "      <td>True</td>\n",
       "      <td>2013-06-25</td>\n",
       "      <td>0.00</td>\n",
       "    </tr>\n",
       "    <tr>\n",
       "      <th>5108325</th>\n",
       "      <td>92500</td>\n",
       "      <td>NinjaCowboy96</td>\n",
       "      <td>False</td>\n",
       "      <td>2015-03-08</td>\n",
       "      <td>0.00</td>\n",
       "    </tr>\n",
       "    <tr>\n",
       "      <th>5108326</th>\n",
       "      <td>98421</td>\n",
       "      <td>wackytobaccy</td>\n",
       "      <td>True</td>\n",
       "      <td></td>\n",
       "      <td>0.00</td>\n",
       "    </tr>\n",
       "  </tbody>\n",
       "</table>\n",
       "<p>5108327 rows × 5 columns</p>\n",
       "</div>"
      ],
      "text/plain": [
       "        item_id            user_id recommend      posted  price\n",
       "0            10  76561197970982479       NaN         NaN   9.99\n",
       "1            10  76561198046777634       NaN         NaN   9.99\n",
       "2            10              ceige       NaN         NaN   9.99\n",
       "3            10     xXPOTATOSLADXx       NaN         NaN   9.99\n",
       "4            10          KinGJaxeR       NaN         NaN   9.99\n",
       "...         ...                ...       ...         ...    ...\n",
       "5108322   91333        LucasArthur      True  2015-04-02   0.00\n",
       "5108323   92500       XUXU23456789      True  2013-12-14   0.00\n",
       "5108324   92500          L0RDVAD3R      True  2013-06-25   0.00\n",
       "5108325   92500      NinjaCowboy96     False  2015-03-08   0.00\n",
       "5108326   98421       wackytobaccy      True               0.00\n",
       "\n",
       "[5108327 rows x 5 columns]"
      ]
     },
     "execution_count": 71,
     "metadata": {},
     "output_type": "execute_result"
    }
   ],
   "source": [
    "dfUserData"
   ]
  },
  {
   "cell_type": "code",
   "execution_count": 72,
   "metadata": {},
   "outputs": [],
   "source": [
    "dfUserData=dfUserData.dropna(subset=['user_id'])"
   ]
  },
  {
   "cell_type": "code",
   "execution_count": 73,
   "metadata": {},
   "outputs": [],
   "source": [
    "dfUserData = dfUserData.reset_index(drop=True)"
   ]
  },
  {
   "cell_type": "code",
   "execution_count": 74,
   "metadata": {},
   "outputs": [
    {
     "data": {
      "text/plain": [
       "(5108327, 5)"
      ]
     },
     "execution_count": 74,
     "metadata": {},
     "output_type": "execute_result"
    }
   ],
   "source": [
    "dfUserData.shape"
   ]
  },
  {
   "cell_type": "code",
   "execution_count": 75,
   "metadata": {},
   "outputs": [],
   "source": [
    "dfUserData=dfUserData.dropna(subset=['item_id'])"
   ]
  },
  {
   "cell_type": "code",
   "execution_count": 76,
   "metadata": {},
   "outputs": [],
   "source": [
    "dfUserData = dfUserData.reset_index(drop=True)"
   ]
  },
  {
   "cell_type": "code",
   "execution_count": 77,
   "metadata": {},
   "outputs": [
    {
     "data": {
      "text/plain": [
       "(5108327, 5)"
      ]
     },
     "execution_count": 77,
     "metadata": {},
     "output_type": "execute_result"
    }
   ],
   "source": [
    "dfUserData.shape"
   ]
  },
  {
   "cell_type": "code",
   "execution_count": 78,
   "metadata": {},
   "outputs": [],
   "source": [
    "dfUserData=dfUserData.dropna(subset=['recommend'])"
   ]
  },
  {
   "cell_type": "code",
   "execution_count": 79,
   "metadata": {},
   "outputs": [],
   "source": [
    "dfUserData = dfUserData.reset_index(drop=True)"
   ]
  },
  {
   "cell_type": "code",
   "execution_count": 81,
   "metadata": {},
   "outputs": [
    {
     "data": {
      "text/plain": [
       "item_id      0\n",
       "user_id      0\n",
       "recommend    0\n",
       "posted       0\n",
       "price        0\n",
       "dtype: int64"
      ]
     },
     "execution_count": 81,
     "metadata": {},
     "output_type": "execute_result"
    }
   ],
   "source": [
    "dfUserData.isna().sum()"
   ]
  },
  {
   "cell_type": "code",
   "execution_count": 82,
   "metadata": {},
   "outputs": [
    {
     "data": {
      "text/plain": [
       "(58431, 5)"
      ]
     },
     "execution_count": 82,
     "metadata": {},
     "output_type": "execute_result"
    }
   ],
   "source": [
    "dfUserData.shape"
   ]
  },
  {
   "cell_type": "code",
   "execution_count": 83,
   "metadata": {},
   "outputs": [
    {
     "name": "stdout",
     "output_type": "stream",
     "text": [
      "Numero de filas duplicadas = 0\n"
     ]
    }
   ],
   "source": [
    "print(f\"Numero de filas duplicadas = {dfUserData.duplicated().sum()}\")"
   ]
  },
  {
   "cell_type": "code",
   "execution_count": 85,
   "metadata": {},
   "outputs": [],
   "source": [
    "import pickle\n",
    "pickle_out = open(\"dataUser.pkl\",\"wb\")\n",
    "pickle.dump(dfUserData, pickle_out)\n",
    "pickle_out.close()"
   ]
  },
  {
   "cell_type": "code",
   "execution_count": 62,
   "metadata": {},
   "outputs": [
    {
     "data": {
      "text/html": [
       "<div>\n",
       "<style scoped>\n",
       "    .dataframe tbody tr th:only-of-type {\n",
       "        vertical-align: middle;\n",
       "    }\n",
       "\n",
       "    .dataframe tbody tr th {\n",
       "        vertical-align: top;\n",
       "    }\n",
       "\n",
       "    .dataframe thead th {\n",
       "        text-align: right;\n",
       "    }\n",
       "</style>\n",
       "<table border=\"1\" class=\"dataframe\">\n",
       "  <thead>\n",
       "    <tr style=\"text-align: right;\">\n",
       "      <th></th>\n",
       "      <th>item_id</th>\n",
       "      <th>item_name</th>\n",
       "      <th>playtime_forever</th>\n",
       "      <th>playtime_2weeks</th>\n",
       "      <th>steam_id</th>\n",
       "      <th>items_count</th>\n",
       "      <th>user_id</th>\n",
       "      <th>user_url</th>\n",
       "      <th>posted</th>\n",
       "      <th>recommend</th>\n",
       "      <th>sentiment_analysis</th>\n",
       "    </tr>\n",
       "  </thead>\n",
       "  <tbody>\n",
       "    <tr>\n",
       "      <th>0</th>\n",
       "      <td>10</td>\n",
       "      <td>Counter-Strike</td>\n",
       "      <td>6.0</td>\n",
       "      <td>0.0</td>\n",
       "      <td>76561197970982479</td>\n",
       "      <td>277.0</td>\n",
       "      <td>76561197970982479</td>\n",
       "      <td>http://steamcommunity.com/profiles/76561197970...</td>\n",
       "      <td>NaN</td>\n",
       "      <td>NaN</td>\n",
       "      <td>NaN</td>\n",
       "    </tr>\n",
       "    <tr>\n",
       "      <th>1</th>\n",
       "      <td>10</td>\n",
       "      <td>Counter-Strike</td>\n",
       "      <td>0.0</td>\n",
       "      <td>0.0</td>\n",
       "      <td>76561198046777634</td>\n",
       "      <td>78.0</td>\n",
       "      <td>76561198046777634</td>\n",
       "      <td>http://steamcommunity.com/profiles/76561198046...</td>\n",
       "      <td>NaN</td>\n",
       "      <td>NaN</td>\n",
       "      <td>NaN</td>\n",
       "    </tr>\n",
       "    <tr>\n",
       "      <th>2</th>\n",
       "      <td>10</td>\n",
       "      <td>Counter-Strike</td>\n",
       "      <td>0.0</td>\n",
       "      <td>0.0</td>\n",
       "      <td>76561198011037361</td>\n",
       "      <td>406.0</td>\n",
       "      <td>ceige</td>\n",
       "      <td>http://steamcommunity.com/id/ceige</td>\n",
       "      <td>NaN</td>\n",
       "      <td>NaN</td>\n",
       "      <td>NaN</td>\n",
       "    </tr>\n",
       "    <tr>\n",
       "      <th>3</th>\n",
       "      <td>10</td>\n",
       "      <td>Counter-Strike</td>\n",
       "      <td>0.0</td>\n",
       "      <td>0.0</td>\n",
       "      <td>76561198040020694</td>\n",
       "      <td>189.0</td>\n",
       "      <td>xXPOTATOSLADXx</td>\n",
       "      <td>http://steamcommunity.com/id/xXPOTATOSLADXx</td>\n",
       "      <td>NaN</td>\n",
       "      <td>NaN</td>\n",
       "      <td>NaN</td>\n",
       "    </tr>\n",
       "    <tr>\n",
       "      <th>4</th>\n",
       "      <td>10</td>\n",
       "      <td>Counter-Strike</td>\n",
       "      <td>3464.0</td>\n",
       "      <td>0.0</td>\n",
       "      <td>76561198045086740</td>\n",
       "      <td>44.0</td>\n",
       "      <td>KinGJaxeR</td>\n",
       "      <td>http://steamcommunity.com/id/KinGJaxeR</td>\n",
       "      <td>NaN</td>\n",
       "      <td>NaN</td>\n",
       "      <td>NaN</td>\n",
       "    </tr>\n",
       "    <tr>\n",
       "      <th>...</th>\n",
       "      <td>...</td>\n",
       "      <td>...</td>\n",
       "      <td>...</td>\n",
       "      <td>...</td>\n",
       "      <td>...</td>\n",
       "      <td>...</td>\n",
       "      <td>...</td>\n",
       "      <td>...</td>\n",
       "      <td>...</td>\n",
       "      <td>...</td>\n",
       "      <td>...</td>\n",
       "    </tr>\n",
       "    <tr>\n",
       "      <th>5108345</th>\n",
       "      <td>99900</td>\n",
       "      <td>NaN</td>\n",
       "      <td>NaN</td>\n",
       "      <td>NaN</td>\n",
       "      <td>NaN</td>\n",
       "      <td>NaN</td>\n",
       "      <td>76561198092798425</td>\n",
       "      <td>http://steamcommunity.com/profiles/76561198092...</td>\n",
       "      <td>2013-12-29</td>\n",
       "      <td>True</td>\n",
       "      <td>1.0</td>\n",
       "    </tr>\n",
       "    <tr>\n",
       "      <th>5108346</th>\n",
       "      <td>99900</td>\n",
       "      <td>NaN</td>\n",
       "      <td>NaN</td>\n",
       "      <td>NaN</td>\n",
       "      <td>NaN</td>\n",
       "      <td>NaN</td>\n",
       "      <td>C14M8S</td>\n",
       "      <td>http://steamcommunity.com/id/C14M8S</td>\n",
       "      <td>2014-05-09</td>\n",
       "      <td>False</td>\n",
       "      <td>2.0</td>\n",
       "    </tr>\n",
       "    <tr>\n",
       "      <th>5108347</th>\n",
       "      <td>99900</td>\n",
       "      <td>NaN</td>\n",
       "      <td>NaN</td>\n",
       "      <td>NaN</td>\n",
       "      <td>NaN</td>\n",
       "      <td>NaN</td>\n",
       "      <td>76561198045344356</td>\n",
       "      <td>http://steamcommunity.com/profiles/76561198045...</td>\n",
       "      <td>2011-09-09</td>\n",
       "      <td>True</td>\n",
       "      <td>2.0</td>\n",
       "    </tr>\n",
       "    <tr>\n",
       "      <th>5108348</th>\n",
       "      <td>99900</td>\n",
       "      <td>NaN</td>\n",
       "      <td>NaN</td>\n",
       "      <td>NaN</td>\n",
       "      <td>NaN</td>\n",
       "      <td>NaN</td>\n",
       "      <td>76561198046474248</td>\n",
       "      <td>http://steamcommunity.com/profiles/76561198046...</td>\n",
       "      <td>2014-10-06</td>\n",
       "      <td>False</td>\n",
       "      <td>1.0</td>\n",
       "    </tr>\n",
       "    <tr>\n",
       "      <th>5108349</th>\n",
       "      <td>99910</td>\n",
       "      <td>NaN</td>\n",
       "      <td>NaN</td>\n",
       "      <td>NaN</td>\n",
       "      <td>NaN</td>\n",
       "      <td>NaN</td>\n",
       "      <td>Gatsukama</td>\n",
       "      <td>http://steamcommunity.com/id/Gatsukama</td>\n",
       "      <td>2011-12-28</td>\n",
       "      <td>True</td>\n",
       "      <td>2.0</td>\n",
       "    </tr>\n",
       "  </tbody>\n",
       "</table>\n",
       "<p>5108350 rows × 11 columns</p>\n",
       "</div>"
      ],
      "text/plain": [
       "        item_id       item_name  playtime_forever  playtime_2weeks  \\\n",
       "0            10  Counter-Strike               6.0              0.0   \n",
       "1            10  Counter-Strike               0.0              0.0   \n",
       "2            10  Counter-Strike               0.0              0.0   \n",
       "3            10  Counter-Strike               0.0              0.0   \n",
       "4            10  Counter-Strike            3464.0              0.0   \n",
       "...         ...             ...               ...              ...   \n",
       "5108345   99900             NaN               NaN              NaN   \n",
       "5108346   99900             NaN               NaN              NaN   \n",
       "5108347   99900             NaN               NaN              NaN   \n",
       "5108348   99900             NaN               NaN              NaN   \n",
       "5108349   99910             NaN               NaN              NaN   \n",
       "\n",
       "                  steam_id  items_count            user_id  \\\n",
       "0        76561197970982479        277.0  76561197970982479   \n",
       "1        76561198046777634         78.0  76561198046777634   \n",
       "2        76561198011037361        406.0              ceige   \n",
       "3        76561198040020694        189.0     xXPOTATOSLADXx   \n",
       "4        76561198045086740         44.0          KinGJaxeR   \n",
       "...                    ...          ...                ...   \n",
       "5108345                NaN          NaN  76561198092798425   \n",
       "5108346                NaN          NaN             C14M8S   \n",
       "5108347                NaN          NaN  76561198045344356   \n",
       "5108348                NaN          NaN  76561198046474248   \n",
       "5108349                NaN          NaN          Gatsukama   \n",
       "\n",
       "                                                  user_url      posted  \\\n",
       "0        http://steamcommunity.com/profiles/76561197970...         NaN   \n",
       "1        http://steamcommunity.com/profiles/76561198046...         NaN   \n",
       "2                       http://steamcommunity.com/id/ceige         NaN   \n",
       "3              http://steamcommunity.com/id/xXPOTATOSLADXx         NaN   \n",
       "4                   http://steamcommunity.com/id/KinGJaxeR         NaN   \n",
       "...                                                    ...         ...   \n",
       "5108345  http://steamcommunity.com/profiles/76561198092...  2013-12-29   \n",
       "5108346                http://steamcommunity.com/id/C14M8S  2014-05-09   \n",
       "5108347  http://steamcommunity.com/profiles/76561198045...  2011-09-09   \n",
       "5108348  http://steamcommunity.com/profiles/76561198046...  2014-10-06   \n",
       "5108349             http://steamcommunity.com/id/Gatsukama  2011-12-28   \n",
       "\n",
       "        recommend  sentiment_analysis  \n",
       "0             NaN                 NaN  \n",
       "1             NaN                 NaN  \n",
       "2             NaN                 NaN  \n",
       "3             NaN                 NaN  \n",
       "4             NaN                 NaN  \n",
       "...           ...                 ...  \n",
       "5108345      True                 1.0  \n",
       "5108346     False                 2.0  \n",
       "5108347      True                 2.0  \n",
       "5108348     False                 1.0  \n",
       "5108349      True                 2.0  \n",
       "\n",
       "[5108350 rows x 11 columns]"
      ]
     },
     "execution_count": 62,
     "metadata": {},
     "output_type": "execute_result"
    }
   ],
   "source": [
    "dataUser"
   ]
  },
  {
   "cell_type": "markdown",
   "metadata": {},
   "source": [
    "## DataFrame Género"
   ]
  },
  {
   "cell_type": "code",
   "execution_count": 105,
   "metadata": {},
   "outputs": [],
   "source": [
    "dfUser =dataUser[['item_id','playtime_forever']]\n",
    "dfGames=dataGames[['item_id','genres']]\n",
    "dfGenres = pd.merge(dfUser,dfGames,on='item_id',how='outer')"
   ]
  },
  {
   "cell_type": "code",
   "execution_count": 115,
   "metadata": {},
   "outputs": [
    {
     "data": {
      "text/plain": [
       "item_id             0\n",
       "playtime_forever    0\n",
       "genres              0\n",
       "dtype: int64"
      ]
     },
     "execution_count": 115,
     "metadata": {},
     "output_type": "execute_result"
    }
   ],
   "source": [
    "dfGenres.isna().sum()"
   ]
  },
  {
   "cell_type": "code",
   "execution_count": 107,
   "metadata": {},
   "outputs": [],
   "source": [
    "dfGenres = dfGenres.dropna(subset=['genres'])\n",
    "dfGenres = dfGenres.reset_index(drop=True)\n"
   ]
  },
  {
   "cell_type": "code",
   "execution_count": 112,
   "metadata": {},
   "outputs": [],
   "source": [
    "dfGenres = dfGenres.dropna(subset=['playtime_forever'])\n",
    "dfGenres = dfGenres.reset_index(drop=True)"
   ]
  },
  {
   "cell_type": "code",
   "execution_count": 113,
   "metadata": {},
   "outputs": [
    {
     "name": "stdout",
     "output_type": "stream",
     "text": [
      "Numero de filas duplicadas = 0\n"
     ]
    }
   ],
   "source": [
    "print(f\"Numero de filas duplicadas = {dfUserData.duplicated().sum()}\")"
   ]
  },
  {
   "cell_type": "code",
   "execution_count": 117,
   "metadata": {},
   "outputs": [
    {
     "data": {
      "text/plain": [
       "(9805136, 2)"
      ]
     },
     "execution_count": 117,
     "metadata": {},
     "output_type": "execute_result"
    }
   ],
   "source": [
    "dfGenres.shape"
   ]
  },
  {
   "cell_type": "code",
   "execution_count": 116,
   "metadata": {},
   "outputs": [],
   "source": [
    "dfGenres.drop(columns=['item_id'], inplace=True)"
   ]
  },
  {
   "cell_type": "code",
   "execution_count": 118,
   "metadata": {},
   "outputs": [],
   "source": [
    "dataGenres = dfGenres.groupby('genres').playtime_forever.agg('sum')"
   ]
  },
  {
   "cell_type": "code",
   "execution_count": 119,
   "metadata": {},
   "outputs": [
    {
     "data": {
      "text/plain": [
       "(21,)"
      ]
     },
     "execution_count": 119,
     "metadata": {},
     "output_type": "execute_result"
    }
   ],
   "source": [
    "dataGenres.shape"
   ]
  },
  {
   "cell_type": "code",
   "execution_count": 120,
   "metadata": {},
   "outputs": [],
   "source": [
    "import pickle\n",
    "pickle_out = open(\"dataGenres.pkl\",\"wb\")\n",
    "pickle.dump(dataGenres, pickle_out)\n",
    "pickle_out.close()"
   ]
  },
  {
   "cell_type": "markdown",
   "metadata": {},
   "source": [
    "## DataFrame Usuario Género"
   ]
  },
  {
   "cell_type": "code",
   "execution_count": 185,
   "metadata": {},
   "outputs": [],
   "source": [
    "dfUser =dataUser[['item_id','user_id','playtime_forever','user_url']]\n",
    "dfGames=dataGames[['item_id','genres']]\n",
    "dfUserGenres = pd.merge(dfUser,dfGames,on='item_id',how='outer')"
   ]
  },
  {
   "cell_type": "code",
   "execution_count": 191,
   "metadata": {},
   "outputs": [
    {
     "data": {
      "text/plain": [
       "item_id             0\n",
       "user_id             0\n",
       "playtime_forever    0\n",
       "user_url            0\n",
       "genres              0\n",
       "dtype: int64"
      ]
     },
     "execution_count": 191,
     "metadata": {},
     "output_type": "execute_result"
    }
   ],
   "source": [
    "dfUserGenres.isna().sum()"
   ]
  },
  {
   "cell_type": "code",
   "execution_count": 190,
   "metadata": {},
   "outputs": [],
   "source": [
    "dfUserGenres = dfUserGenres.dropna(subset=['playtime_forever'])\n",
    "dfUserGenres = dfUserGenres.reset_index(drop=True)\n"
   ]
  },
  {
   "cell_type": "code",
   "execution_count": 187,
   "metadata": {},
   "outputs": [],
   "source": [
    "dfUserGenres = dfUserGenres.dropna(subset=['user_id'])\n",
    "dfUserGenres = dfUserGenres.reset_index(drop=True)\n"
   ]
  },
  {
   "cell_type": "code",
   "execution_count": 188,
   "metadata": {},
   "outputs": [],
   "source": [
    "dfUserGenres = dfUserGenres.dropna(subset=['genres'])\n",
    "dfUserGenres = dfUserGenres.reset_index(drop=True)"
   ]
  },
  {
   "cell_type": "code",
   "execution_count": 192,
   "metadata": {},
   "outputs": [],
   "source": [
    "dataUserGenre= dfUserGenres.loc[dfUserGenres.groupby(['user_id']).playtime_forever.agg('sum')]"
   ]
  },
  {
   "cell_type": "code",
   "execution_count": 193,
   "metadata": {},
   "outputs": [],
   "source": [
    "\n",
    "dataUserGenre = dataUserGenre.reset_index(drop=True)"
   ]
  },
  {
   "cell_type": "code",
   "execution_count": 194,
   "metadata": {},
   "outputs": [
    {
     "data": {
      "text/html": [
       "<div>\n",
       "<style scoped>\n",
       "    .dataframe tbody tr th:only-of-type {\n",
       "        vertical-align: middle;\n",
       "    }\n",
       "\n",
       "    .dataframe tbody tr th {\n",
       "        vertical-align: top;\n",
       "    }\n",
       "\n",
       "    .dataframe thead th {\n",
       "        text-align: right;\n",
       "    }\n",
       "</style>\n",
       "<table border=\"1\" class=\"dataframe\">\n",
       "  <thead>\n",
       "    <tr style=\"text-align: right;\">\n",
       "      <th></th>\n",
       "      <th>item_id</th>\n",
       "      <th>user_id</th>\n",
       "      <th>playtime_forever</th>\n",
       "      <th>user_url</th>\n",
       "      <th>genres</th>\n",
       "    </tr>\n",
       "  </thead>\n",
       "  <tbody>\n",
       "    <tr>\n",
       "      <th>0</th>\n",
       "      <td>105600</td>\n",
       "      <td>76561198087081945</td>\n",
       "      <td>36.0</td>\n",
       "      <td>http://steamcommunity.com/profiles/76561198087...</td>\n",
       "      <td>Action</td>\n",
       "    </tr>\n",
       "    <tr>\n",
       "      <th>1</th>\n",
       "      <td>104900</td>\n",
       "      <td>1233zaazen</td>\n",
       "      <td>628.0</td>\n",
       "      <td>http://steamcommunity.com/id/1233zaazen</td>\n",
       "      <td>Indie</td>\n",
       "    </tr>\n",
       "    <tr>\n",
       "      <th>2</th>\n",
       "      <td>102840</td>\n",
       "      <td>76561198069902636</td>\n",
       "      <td>0.0</td>\n",
       "      <td>http://steamcommunity.com/profiles/76561198069...</td>\n",
       "      <td>Indie</td>\n",
       "    </tr>\n",
       "    <tr>\n",
       "      <th>3</th>\n",
       "      <td>104900</td>\n",
       "      <td>76561198060788031</td>\n",
       "      <td>8.0</td>\n",
       "      <td>http://steamcommunity.com/profiles/76561198060...</td>\n",
       "      <td>Adventure</td>\n",
       "    </tr>\n",
       "    <tr>\n",
       "      <th>4</th>\n",
       "      <td>113020</td>\n",
       "      <td>TheKingOfNintendos</td>\n",
       "      <td>6.0</td>\n",
       "      <td>http://steamcommunity.com/id/TheKingOfNintendos</td>\n",
       "      <td>Adventure</td>\n",
       "    </tr>\n",
       "    <tr>\n",
       "      <th>...</th>\n",
       "      <td>...</td>\n",
       "      <td>...</td>\n",
       "      <td>...</td>\n",
       "      <td>...</td>\n",
       "      <td>...</td>\n",
       "    </tr>\n",
       "    <tr>\n",
       "      <th>68648</th>\n",
       "      <td>10</td>\n",
       "      <td>kr0akey</td>\n",
       "      <td>23.0</td>\n",
       "      <td>http://steamcommunity.com/id/kr0akey</td>\n",
       "      <td>Action</td>\n",
       "    </tr>\n",
       "    <tr>\n",
       "      <th>68649</th>\n",
       "      <td>113020</td>\n",
       "      <td>76561198094167080</td>\n",
       "      <td>47.0</td>\n",
       "      <td>http://steamcommunity.com/profiles/76561198094...</td>\n",
       "      <td>Adventure</td>\n",
       "    </tr>\n",
       "    <tr>\n",
       "      <th>68650</th>\n",
       "      <td>10</td>\n",
       "      <td>76561198089529136</td>\n",
       "      <td>0.0</td>\n",
       "      <td>http://steamcommunity.com/profiles/76561198089...</td>\n",
       "      <td>Action</td>\n",
       "    </tr>\n",
       "    <tr>\n",
       "      <th>68651</th>\n",
       "      <td>104200</td>\n",
       "      <td>HENRYYA</td>\n",
       "      <td>0.0</td>\n",
       "      <td>http://steamcommunity.com/id/HENRYYA</td>\n",
       "      <td>Adventure</td>\n",
       "    </tr>\n",
       "    <tr>\n",
       "      <th>68652</th>\n",
       "      <td>10180</td>\n",
       "      <td>wake-up</td>\n",
       "      <td>3934.0</td>\n",
       "      <td>http://steamcommunity.com/id/wake-up</td>\n",
       "      <td>Action</td>\n",
       "    </tr>\n",
       "  </tbody>\n",
       "</table>\n",
       "<p>68653 rows × 5 columns</p>\n",
       "</div>"
      ],
      "text/plain": [
       "      item_id             user_id  playtime_forever  \\\n",
       "0      105600   76561198087081945              36.0   \n",
       "1      104900          1233zaazen             628.0   \n",
       "2      102840   76561198069902636               0.0   \n",
       "3      104900   76561198060788031               8.0   \n",
       "4      113020  TheKingOfNintendos               6.0   \n",
       "...       ...                 ...               ...   \n",
       "68648      10             kr0akey              23.0   \n",
       "68649  113020   76561198094167080              47.0   \n",
       "68650      10   76561198089529136               0.0   \n",
       "68651  104200             HENRYYA               0.0   \n",
       "68652   10180             wake-up            3934.0   \n",
       "\n",
       "                                                user_url     genres  \n",
       "0      http://steamcommunity.com/profiles/76561198087...     Action  \n",
       "1                http://steamcommunity.com/id/1233zaazen      Indie  \n",
       "2      http://steamcommunity.com/profiles/76561198069...      Indie  \n",
       "3      http://steamcommunity.com/profiles/76561198060...  Adventure  \n",
       "4        http://steamcommunity.com/id/TheKingOfNintendos  Adventure  \n",
       "...                                                  ...        ...  \n",
       "68648               http://steamcommunity.com/id/kr0akey     Action  \n",
       "68649  http://steamcommunity.com/profiles/76561198094...  Adventure  \n",
       "68650  http://steamcommunity.com/profiles/76561198089...     Action  \n",
       "68651               http://steamcommunity.com/id/HENRYYA  Adventure  \n",
       "68652               http://steamcommunity.com/id/wake-up     Action  \n",
       "\n",
       "[68653 rows x 5 columns]"
      ]
     },
     "execution_count": 194,
     "metadata": {},
     "output_type": "execute_result"
    }
   ],
   "source": [
    "dataUserGenre"
   ]
  },
  {
   "cell_type": "code",
   "execution_count": 198,
   "metadata": {},
   "outputs": [
    {
     "name": "stdout",
     "output_type": "stream",
     "text": [
      "Numero de filas duplicadas = 0\n"
     ]
    }
   ],
   "source": [
    "print(f\"Numero de filas duplicadas = {dataUserGenre.duplicated().sum()}\")"
   ]
  },
  {
   "cell_type": "code",
   "execution_count": 196,
   "metadata": {},
   "outputs": [],
   "source": [
    "# Remover registros duplicados\n",
    "\n",
    "dataUserGenre = dataUserGenre.drop_duplicates()\n",
    "dataUserGenre.reset_index(drop=True,inplace=True)"
   ]
  },
  {
   "cell_type": "code",
   "execution_count": 197,
   "metadata": {},
   "outputs": [
    {
     "data": {
      "text/html": [
       "<div>\n",
       "<style scoped>\n",
       "    .dataframe tbody tr th:only-of-type {\n",
       "        vertical-align: middle;\n",
       "    }\n",
       "\n",
       "    .dataframe tbody tr th {\n",
       "        vertical-align: top;\n",
       "    }\n",
       "\n",
       "    .dataframe thead th {\n",
       "        text-align: right;\n",
       "    }\n",
       "</style>\n",
       "<table border=\"1\" class=\"dataframe\">\n",
       "  <thead>\n",
       "    <tr style=\"text-align: right;\">\n",
       "      <th></th>\n",
       "      <th>item_id</th>\n",
       "      <th>user_id</th>\n",
       "      <th>playtime_forever</th>\n",
       "      <th>user_url</th>\n",
       "      <th>genres</th>\n",
       "    </tr>\n",
       "  </thead>\n",
       "  <tbody>\n",
       "    <tr>\n",
       "      <th>0</th>\n",
       "      <td>105600</td>\n",
       "      <td>76561198087081945</td>\n",
       "      <td>36.0</td>\n",
       "      <td>http://steamcommunity.com/profiles/76561198087...</td>\n",
       "      <td>Action</td>\n",
       "    </tr>\n",
       "    <tr>\n",
       "      <th>1</th>\n",
       "      <td>104900</td>\n",
       "      <td>1233zaazen</td>\n",
       "      <td>628.0</td>\n",
       "      <td>http://steamcommunity.com/id/1233zaazen</td>\n",
       "      <td>Indie</td>\n",
       "    </tr>\n",
       "    <tr>\n",
       "      <th>2</th>\n",
       "      <td>102840</td>\n",
       "      <td>76561198069902636</td>\n",
       "      <td>0.0</td>\n",
       "      <td>http://steamcommunity.com/profiles/76561198069...</td>\n",
       "      <td>Indie</td>\n",
       "    </tr>\n",
       "    <tr>\n",
       "      <th>3</th>\n",
       "      <td>104900</td>\n",
       "      <td>76561198060788031</td>\n",
       "      <td>8.0</td>\n",
       "      <td>http://steamcommunity.com/profiles/76561198060...</td>\n",
       "      <td>Adventure</td>\n",
       "    </tr>\n",
       "    <tr>\n",
       "      <th>4</th>\n",
       "      <td>113020</td>\n",
       "      <td>TheKingOfNintendos</td>\n",
       "      <td>6.0</td>\n",
       "      <td>http://steamcommunity.com/id/TheKingOfNintendos</td>\n",
       "      <td>Adventure</td>\n",
       "    </tr>\n",
       "    <tr>\n",
       "      <th>...</th>\n",
       "      <td>...</td>\n",
       "      <td>...</td>\n",
       "      <td>...</td>\n",
       "      <td>...</td>\n",
       "      <td>...</td>\n",
       "    </tr>\n",
       "    <tr>\n",
       "      <th>57883</th>\n",
       "      <td>10500</td>\n",
       "      <td>76561198035860222</td>\n",
       "      <td>0.0</td>\n",
       "      <td>http://steamcommunity.com/profiles/76561198035...</td>\n",
       "      <td>Strategy</td>\n",
       "    </tr>\n",
       "    <tr>\n",
       "      <th>57884</th>\n",
       "      <td>10</td>\n",
       "      <td>kr0akey</td>\n",
       "      <td>23.0</td>\n",
       "      <td>http://steamcommunity.com/id/kr0akey</td>\n",
       "      <td>Action</td>\n",
       "    </tr>\n",
       "    <tr>\n",
       "      <th>57885</th>\n",
       "      <td>113020</td>\n",
       "      <td>76561198094167080</td>\n",
       "      <td>47.0</td>\n",
       "      <td>http://steamcommunity.com/profiles/76561198094...</td>\n",
       "      <td>Adventure</td>\n",
       "    </tr>\n",
       "    <tr>\n",
       "      <th>57886</th>\n",
       "      <td>104200</td>\n",
       "      <td>HENRYYA</td>\n",
       "      <td>0.0</td>\n",
       "      <td>http://steamcommunity.com/id/HENRYYA</td>\n",
       "      <td>Adventure</td>\n",
       "    </tr>\n",
       "    <tr>\n",
       "      <th>57887</th>\n",
       "      <td>10180</td>\n",
       "      <td>wake-up</td>\n",
       "      <td>3934.0</td>\n",
       "      <td>http://steamcommunity.com/id/wake-up</td>\n",
       "      <td>Action</td>\n",
       "    </tr>\n",
       "  </tbody>\n",
       "</table>\n",
       "<p>57888 rows × 5 columns</p>\n",
       "</div>"
      ],
      "text/plain": [
       "      item_id             user_id  playtime_forever  \\\n",
       "0      105600   76561198087081945              36.0   \n",
       "1      104900          1233zaazen             628.0   \n",
       "2      102840   76561198069902636               0.0   \n",
       "3      104900   76561198060788031               8.0   \n",
       "4      113020  TheKingOfNintendos               6.0   \n",
       "...       ...                 ...               ...   \n",
       "57883   10500   76561198035860222               0.0   \n",
       "57884      10             kr0akey              23.0   \n",
       "57885  113020   76561198094167080              47.0   \n",
       "57886  104200             HENRYYA               0.0   \n",
       "57887   10180             wake-up            3934.0   \n",
       "\n",
       "                                                user_url     genres  \n",
       "0      http://steamcommunity.com/profiles/76561198087...     Action  \n",
       "1                http://steamcommunity.com/id/1233zaazen      Indie  \n",
       "2      http://steamcommunity.com/profiles/76561198069...      Indie  \n",
       "3      http://steamcommunity.com/profiles/76561198060...  Adventure  \n",
       "4        http://steamcommunity.com/id/TheKingOfNintendos  Adventure  \n",
       "...                                                  ...        ...  \n",
       "57883  http://steamcommunity.com/profiles/76561198035...   Strategy  \n",
       "57884               http://steamcommunity.com/id/kr0akey     Action  \n",
       "57885  http://steamcommunity.com/profiles/76561198094...  Adventure  \n",
       "57886               http://steamcommunity.com/id/HENRYYA  Adventure  \n",
       "57887               http://steamcommunity.com/id/wake-up     Action  \n",
       "\n",
       "[57888 rows x 5 columns]"
      ]
     },
     "execution_count": 197,
     "metadata": {},
     "output_type": "execute_result"
    }
   ],
   "source": [
    "dataUserGenre"
   ]
  },
  {
   "cell_type": "code",
   "execution_count": 200,
   "metadata": {},
   "outputs": [],
   "source": [
    "import pickle\n",
    "pickle_out = open(\"dataUserGenre.pkl\",\"wb\")\n",
    "pickle.dump(dataUserGenre, pickle_out)\n",
    "pickle_out.close()"
   ]
  },
  {
   "cell_type": "markdown",
   "metadata": {},
   "source": [
    "## DataFrame Developer"
   ]
  },
  {
   "cell_type": "code",
   "execution_count": 581,
   "metadata": {},
   "outputs": [],
   "source": [
    "dfUser =dataUser[['item_id']]\n",
    "dfGames=dataGames[['item_id','price','release_year','developer']]\n",
    "dfDeveloper = pd.merge(dfUser,dfGames,on='item_id',how='outer')"
   ]
  },
  {
   "cell_type": "code",
   "execution_count": 529,
   "metadata": {},
   "outputs": [
    {
     "data": {
      "text/plain": [
       "item_id         0\n",
       "price           0\n",
       "release_year    0\n",
       "developer       0\n",
       "dtype: int64"
      ]
     },
     "execution_count": 529,
     "metadata": {},
     "output_type": "execute_result"
    }
   ],
   "source": [
    "dfDeveloper.isna().sum()"
   ]
  },
  {
   "cell_type": "code",
   "execution_count": 584,
   "metadata": {},
   "outputs": [],
   "source": [
    "dfDeveloper = dfDeveloper.dropna(subset=['developer'])\n"
   ]
  },
  {
   "cell_type": "code",
   "execution_count": 585,
   "metadata": {},
   "outputs": [],
   "source": [
    "dfDeveloper = dfDeveloper.reset_index(drop=True)"
   ]
  },
  {
   "cell_type": "code",
   "execution_count": 586,
   "metadata": {},
   "outputs": [],
   "source": [
    "dfDeveloper = dfDeveloper.dropna(subset=['release_year'])\n"
   ]
  },
  {
   "cell_type": "code",
   "execution_count": 587,
   "metadata": {},
   "outputs": [],
   "source": [
    "dfDeveloper = dfDeveloper.reset_index(drop=True)"
   ]
  },
  {
   "cell_type": "code",
   "execution_count": 588,
   "metadata": {},
   "outputs": [],
   "source": [
    "dfDeveloper['release_year']=dfDeveloper['release_year'].astype(str)"
   ]
  },
  {
   "cell_type": "code",
   "execution_count": 589,
   "metadata": {},
   "outputs": [],
   "source": [
    "dfDeveloper = dfDeveloper.reset_index(drop=True)"
   ]
  },
  {
   "cell_type": "markdown",
   "metadata": {},
   "source": [
    "De aqui saldran 3 datasets"
   ]
  },
  {
   "cell_type": "code",
   "execution_count": 590,
   "metadata": {},
   "outputs": [],
   "source": [
    "dataYear= dfDeveloper.groupby(['release_year','developer']).agg({'item_id': 'nunique'}).reset_index()"
   ]
  },
  {
   "cell_type": "code",
   "execution_count": 595,
   "metadata": {},
   "outputs": [],
   "source": [
    "dataDev= dfDeveloper.groupby(['developer']).agg({'item_id': 'nunique'}).reset_index()"
   ]
  },
  {
   "cell_type": "code",
   "execution_count": 597,
   "metadata": {},
   "outputs": [],
   "source": [
    "dataFreeYear= dfDeveloper[dfDeveloper['price']==0].groupby(['release_year','developer']).agg({'item_id': 'nunique'}).reset_index()"
   ]
  },
  {
   "cell_type": "code",
   "execution_count": 315,
   "metadata": {},
   "outputs": [],
   "source": [
    "import pickle\n",
    "pickle_out = open(\"dataDevYear.pkl\",\"wb\")\n",
    "pickle.dump(dataYear, pickle_out)\n",
    "pickle_out.close()"
   ]
  },
  {
   "cell_type": "code",
   "execution_count": 321,
   "metadata": {},
   "outputs": [],
   "source": [
    "import pickle\n",
    "pickle_out = open(\"dataDevItem.pkl\",\"wb\")\n",
    "pickle.dump(dataDev, pickle_out)\n",
    "pickle_out.close()"
   ]
  },
  {
   "cell_type": "code",
   "execution_count": 325,
   "metadata": {},
   "outputs": [],
   "source": [
    "import pickle\n",
    "pickle_out = open(\"dataFreeYear.pkl\",\"wb\")\n",
    "pickle.dump(dataFreeYear, pickle_out)\n",
    "pickle_out.close()"
   ]
  },
  {
   "cell_type": "markdown",
   "metadata": {},
   "source": [
    "## DataFrame Sentimento"
   ]
  },
  {
   "cell_type": "code",
   "execution_count": 607,
   "metadata": {},
   "outputs": [],
   "source": [
    "dfGamesSentiment=dataGames[['item_id','release_year']]\n",
    "dfUserSentiment =dataUser[['item_id','user_id','sentiment_analysis']]\n",
    "dataSentiment = pd.merge(dfUserSentiment,dfGamesSentiment,on='item_id',how='outer')"
   ]
  },
  {
   "cell_type": "code",
   "execution_count": 608,
   "metadata": {},
   "outputs": [],
   "source": [
    "dataSentiment = dataSentiment.dropna(subset=['user_id'])\n",
    "dataSentiment = dataSentiment.reset_index(drop=True)"
   ]
  },
  {
   "cell_type": "code",
   "execution_count": 609,
   "metadata": {},
   "outputs": [],
   "source": [
    "dataSentiment = dataSentiment.dropna(subset=['release_year'])\n",
    "dataSentiment = dataSentiment.reset_index(drop=True)"
   ]
  },
  {
   "cell_type": "code",
   "execution_count": 618,
   "metadata": {},
   "outputs": [
    {
     "data": {
      "text/plain": [
       "(123660, 4)"
      ]
     },
     "execution_count": 618,
     "metadata": {},
     "output_type": "execute_result"
    }
   ],
   "source": [
    "dataSentiment.shape"
   ]
  },
  {
   "cell_type": "code",
   "execution_count": 617,
   "metadata": {},
   "outputs": [
    {
     "data": {
      "text/plain": [
       "item_id               0\n",
       "user_id               0\n",
       "sentiment_analysis    0\n",
       "release_year          0\n",
       "dtype: int64"
      ]
     },
     "execution_count": 617,
     "metadata": {},
     "output_type": "execute_result"
    }
   ],
   "source": [
    "dataSentiment.isna().sum()"
   ]
  },
  {
   "cell_type": "code",
   "execution_count": 616,
   "metadata": {},
   "outputs": [],
   "source": [
    "dataSentiment = dataSentiment.dropna(subset=['sentiment_analysis'])\n",
    "dataSentiment = dataSentiment.reset_index(drop=True)"
   ]
  },
  {
   "cell_type": "code",
   "execution_count": 619,
   "metadata": {},
   "outputs": [],
   "source": [
    "import pickle\n",
    "pickle_out = open(\"dataSentiment.pkl\",\"wb\")\n",
    "pickle.dump(dataSentiment, pickle_out)\n",
    "pickle_out.close()"
   ]
  },
  {
   "cell_type": "markdown",
   "metadata": {},
   "source": [
    "# DataFrame Recomendación"
   ]
  },
  {
   "cell_type": "code",
   "execution_count": 628,
   "metadata": {},
   "outputs": [],
   "source": [
    "dfGames=dataGames[['item_id','app_name','genres']]\n",
    "dfUser =dataUser[['item_id']]\n",
    "dataRecomend = pd.merge(dfUser,dfGames,on='item_id',how='outer')"
   ]
  },
  {
   "cell_type": "code",
   "execution_count": 635,
   "metadata": {},
   "outputs": [
    {
     "data": {
      "text/plain": [
       "(9880489, 3)"
      ]
     },
     "execution_count": 635,
     "metadata": {},
     "output_type": "execute_result"
    }
   ],
   "source": [
    "dataRecomend.shape"
   ]
  },
  {
   "cell_type": "code",
   "execution_count": 641,
   "metadata": {},
   "outputs": [
    {
     "data": {
      "text/plain": [
       "item_id     0\n",
       "app_name    0\n",
       "genres      0\n",
       "dtype: int64"
      ]
     },
     "execution_count": 641,
     "metadata": {},
     "output_type": "execute_result"
    }
   ],
   "source": [
    "dataRecomend.isna().sum()"
   ]
  },
  {
   "cell_type": "code",
   "execution_count": 631,
   "metadata": {},
   "outputs": [],
   "source": [
    "dataRecomend = dataRecomend.dropna(subset=['app_name'])\n",
    "dataRecomend = dataRecomend.reset_index(drop=True)"
   ]
  },
  {
   "cell_type": "code",
   "execution_count": 637,
   "metadata": {},
   "outputs": [
    {
     "name": "stdout",
     "output_type": "stream",
     "text": [
      "Numero de filas duplicadas = 9809786\n"
     ]
    }
   ],
   "source": [
    "print(f\"Numero de filas duplicadas = {dataRecomend.duplicated().sum()}\")"
   ]
  },
  {
   "cell_type": "code",
   "execution_count": 638,
   "metadata": {},
   "outputs": [],
   "source": [
    "dataRecomend =dataRecomend.drop_duplicates()\n"
   ]
  },
  {
   "cell_type": "code",
   "execution_count": 642,
   "metadata": {},
   "outputs": [],
   "source": [
    "dataRecomend=dataRecomend.reset_index(drop=True)"
   ]
  },
  {
   "cell_type": "code",
   "execution_count": 643,
   "metadata": {},
   "outputs": [
    {
     "data": {
      "text/plain": [
       "(70703, 3)"
      ]
     },
     "execution_count": 643,
     "metadata": {},
     "output_type": "execute_result"
    }
   ],
   "source": [
    "dataRecomend.shape"
   ]
  },
  {
   "cell_type": "code",
   "execution_count": 644,
   "metadata": {},
   "outputs": [],
   "source": [
    "import pickle\n",
    "pickle_out = open(\"dataRecomend.pkl\",\"wb\")\n",
    "pickle.dump(dataRecomend, pickle_out)\n",
    "pickle_out.close()"
   ]
  },
  {
   "cell_type": "markdown",
   "metadata": {},
   "source": [
    "# DataFrame Recomendación2"
   ]
  },
  {
   "cell_type": "code",
   "execution_count": 4,
   "metadata": {},
   "outputs": [],
   "source": [
    "data = pd.merge(dataUser,dataGames,on='item_id',how='outer')"
   ]
  },
  {
   "cell_type": "code",
   "execution_count": 5,
   "metadata": {},
   "outputs": [],
   "source": [
    "data =data[['user_id','item_id','app_name','metascore']]"
   ]
  },
  {
   "cell_type": "code",
   "execution_count": 6,
   "metadata": {},
   "outputs": [],
   "source": [
    "data=data.dropna(subset=['metascore'])\n",
    "data = data.reset_index(drop=True)"
   ]
  },
  {
   "cell_type": "code",
   "execution_count": 7,
   "metadata": {},
   "outputs": [],
   "source": [
    "data = data.drop(data[data['metascore']==0].index)\n",
    "data = data.reset_index(drop=True)"
   ]
  },
  {
   "cell_type": "code",
   "execution_count": 8,
   "metadata": {},
   "outputs": [],
   "source": [
    "\n",
    "data=data.drop_duplicates()\n",
    "data=data.dropna()\n",
    "data=data.reset_index(drop=True)"
   ]
  },
  {
   "cell_type": "code",
   "execution_count": 9,
   "metadata": {},
   "outputs": [
    {
     "data": {
      "text/html": [
       "<div>\n",
       "<style scoped>\n",
       "    .dataframe tbody tr th:only-of-type {\n",
       "        vertical-align: middle;\n",
       "    }\n",
       "\n",
       "    .dataframe tbody tr th {\n",
       "        vertical-align: top;\n",
       "    }\n",
       "\n",
       "    .dataframe thead th {\n",
       "        text-align: right;\n",
       "    }\n",
       "</style>\n",
       "<table border=\"1\" class=\"dataframe\">\n",
       "  <thead>\n",
       "    <tr style=\"text-align: right;\">\n",
       "      <th>item_id</th>\n",
       "      <th>10</th>\n",
       "      <th>1002</th>\n",
       "      <th>10090</th>\n",
       "      <th>10130</th>\n",
       "      <th>10150</th>\n",
       "      <th>10180</th>\n",
       "      <th>10220</th>\n",
       "      <th>102200</th>\n",
       "      <th>102400</th>\n",
       "      <th>102500</th>\n",
       "      <th>...</th>\n",
       "      <th>98800</th>\n",
       "      <th>9900</th>\n",
       "      <th>99120</th>\n",
       "      <th>99200</th>\n",
       "      <th>99300</th>\n",
       "      <th>9940</th>\n",
       "      <th>99400</th>\n",
       "      <th>99700</th>\n",
       "      <th>9980</th>\n",
       "      <th>99900</th>\n",
       "    </tr>\n",
       "    <tr>\n",
       "      <th>user_id</th>\n",
       "      <th></th>\n",
       "      <th></th>\n",
       "      <th></th>\n",
       "      <th></th>\n",
       "      <th></th>\n",
       "      <th></th>\n",
       "      <th></th>\n",
       "      <th></th>\n",
       "      <th></th>\n",
       "      <th></th>\n",
       "      <th></th>\n",
       "      <th></th>\n",
       "      <th></th>\n",
       "      <th></th>\n",
       "      <th></th>\n",
       "      <th></th>\n",
       "      <th></th>\n",
       "      <th></th>\n",
       "      <th></th>\n",
       "      <th></th>\n",
       "      <th></th>\n",
       "    </tr>\n",
       "  </thead>\n",
       "  <tbody>\n",
       "    <tr>\n",
       "      <th>--000--</th>\n",
       "      <td>0.0</td>\n",
       "      <td>0.0</td>\n",
       "      <td>0.0</td>\n",
       "      <td>0.0</td>\n",
       "      <td>0.0</td>\n",
       "      <td>0.0</td>\n",
       "      <td>0.0</td>\n",
       "      <td>0.0</td>\n",
       "      <td>0.0</td>\n",
       "      <td>0.0</td>\n",
       "      <td>...</td>\n",
       "      <td>0.0</td>\n",
       "      <td>0.0</td>\n",
       "      <td>0.0</td>\n",
       "      <td>0.0</td>\n",
       "      <td>0.0</td>\n",
       "      <td>0.0</td>\n",
       "      <td>0.0</td>\n",
       "      <td>0.0</td>\n",
       "      <td>0.0</td>\n",
       "      <td>0.0</td>\n",
       "    </tr>\n",
       "    <tr>\n",
       "      <th>--ace--</th>\n",
       "      <td>0.0</td>\n",
       "      <td>0.0</td>\n",
       "      <td>0.0</td>\n",
       "      <td>0.0</td>\n",
       "      <td>0.0</td>\n",
       "      <td>0.0</td>\n",
       "      <td>0.0</td>\n",
       "      <td>0.0</td>\n",
       "      <td>0.0</td>\n",
       "      <td>0.0</td>\n",
       "      <td>...</td>\n",
       "      <td>0.0</td>\n",
       "      <td>0.0</td>\n",
       "      <td>0.0</td>\n",
       "      <td>0.0</td>\n",
       "      <td>0.0</td>\n",
       "      <td>0.0</td>\n",
       "      <td>0.0</td>\n",
       "      <td>0.0</td>\n",
       "      <td>0.0</td>\n",
       "      <td>0.0</td>\n",
       "    </tr>\n",
       "    <tr>\n",
       "      <th>--ionex--</th>\n",
       "      <td>0.0</td>\n",
       "      <td>0.0</td>\n",
       "      <td>0.0</td>\n",
       "      <td>0.0</td>\n",
       "      <td>0.0</td>\n",
       "      <td>86.0</td>\n",
       "      <td>0.0</td>\n",
       "      <td>0.0</td>\n",
       "      <td>0.0</td>\n",
       "      <td>0.0</td>\n",
       "      <td>...</td>\n",
       "      <td>0.0</td>\n",
       "      <td>0.0</td>\n",
       "      <td>0.0</td>\n",
       "      <td>0.0</td>\n",
       "      <td>0.0</td>\n",
       "      <td>0.0</td>\n",
       "      <td>0.0</td>\n",
       "      <td>0.0</td>\n",
       "      <td>0.0</td>\n",
       "      <td>0.0</td>\n",
       "    </tr>\n",
       "    <tr>\n",
       "      <th>-2SV-vuLB-Kg</th>\n",
       "      <td>0.0</td>\n",
       "      <td>0.0</td>\n",
       "      <td>0.0</td>\n",
       "      <td>0.0</td>\n",
       "      <td>0.0</td>\n",
       "      <td>0.0</td>\n",
       "      <td>0.0</td>\n",
       "      <td>0.0</td>\n",
       "      <td>0.0</td>\n",
       "      <td>0.0</td>\n",
       "      <td>...</td>\n",
       "      <td>0.0</td>\n",
       "      <td>0.0</td>\n",
       "      <td>0.0</td>\n",
       "      <td>0.0</td>\n",
       "      <td>76.0</td>\n",
       "      <td>0.0</td>\n",
       "      <td>0.0</td>\n",
       "      <td>0.0</td>\n",
       "      <td>0.0</td>\n",
       "      <td>0.0</td>\n",
       "    </tr>\n",
       "    <tr>\n",
       "      <th>-404PageNotFound-</th>\n",
       "      <td>0.0</td>\n",
       "      <td>0.0</td>\n",
       "      <td>0.0</td>\n",
       "      <td>0.0</td>\n",
       "      <td>0.0</td>\n",
       "      <td>86.0</td>\n",
       "      <td>0.0</td>\n",
       "      <td>0.0</td>\n",
       "      <td>0.0</td>\n",
       "      <td>0.0</td>\n",
       "      <td>...</td>\n",
       "      <td>0.0</td>\n",
       "      <td>0.0</td>\n",
       "      <td>0.0</td>\n",
       "      <td>0.0</td>\n",
       "      <td>0.0</td>\n",
       "      <td>0.0</td>\n",
       "      <td>0.0</td>\n",
       "      <td>0.0</td>\n",
       "      <td>0.0</td>\n",
       "      <td>0.0</td>\n",
       "    </tr>\n",
       "  </tbody>\n",
       "</table>\n",
       "<p>5 rows × 1963 columns</p>\n",
       "</div>"
      ],
      "text/plain": [
       "item_id             10  1002  10090  10130  10150  10180  10220  102200  \\\n",
       "user_id                                                                   \n",
       "--000--            0.0   0.0    0.0    0.0    0.0    0.0    0.0     0.0   \n",
       "--ace--            0.0   0.0    0.0    0.0    0.0    0.0    0.0     0.0   \n",
       "--ionex--          0.0   0.0    0.0    0.0    0.0   86.0    0.0     0.0   \n",
       "-2SV-vuLB-Kg       0.0   0.0    0.0    0.0    0.0    0.0    0.0     0.0   \n",
       "-404PageNotFound-  0.0   0.0    0.0    0.0    0.0   86.0    0.0     0.0   \n",
       "\n",
       "item_id            102400  102500  ...  98800  9900  99120  99200  99300  \\\n",
       "user_id                            ...                                     \n",
       "--000--               0.0     0.0  ...    0.0   0.0    0.0    0.0    0.0   \n",
       "--ace--               0.0     0.0  ...    0.0   0.0    0.0    0.0    0.0   \n",
       "--ionex--             0.0     0.0  ...    0.0   0.0    0.0    0.0    0.0   \n",
       "-2SV-vuLB-Kg          0.0     0.0  ...    0.0   0.0    0.0    0.0   76.0   \n",
       "-404PageNotFound-     0.0     0.0  ...    0.0   0.0    0.0    0.0    0.0   \n",
       "\n",
       "item_id            9940  99400  99700  9980  99900  \n",
       "user_id                                             \n",
       "--000--             0.0    0.0    0.0   0.0    0.0  \n",
       "--ace--             0.0    0.0    0.0   0.0    0.0  \n",
       "--ionex--           0.0    0.0    0.0   0.0    0.0  \n",
       "-2SV-vuLB-Kg        0.0    0.0    0.0   0.0    0.0  \n",
       "-404PageNotFound-   0.0    0.0    0.0   0.0    0.0  \n",
       "\n",
       "[5 rows x 1963 columns]"
      ]
     },
     "execution_count": 9,
     "metadata": {},
     "output_type": "execute_result"
    }
   ],
   "source": [
    "UserRatings = data.pivot_table(index=['user_id'],columns=['item_id'],values='metascore')\n",
    "UserRatings = UserRatings.dropna(thresh=10, axis=1).fillna(0,axis=1)\n",
    "UserRatings.head()"
   ]
  },
  {
   "cell_type": "code",
   "execution_count": 10,
   "metadata": {},
   "outputs": [
    {
     "data": {
      "text/html": [
       "<div>\n",
       "<style scoped>\n",
       "    .dataframe tbody tr th:only-of-type {\n",
       "        vertical-align: middle;\n",
       "    }\n",
       "\n",
       "    .dataframe tbody tr th {\n",
       "        vertical-align: top;\n",
       "    }\n",
       "\n",
       "    .dataframe thead th {\n",
       "        text-align: right;\n",
       "    }\n",
       "</style>\n",
       "<table border=\"1\" class=\"dataframe\">\n",
       "  <thead>\n",
       "    <tr style=\"text-align: right;\">\n",
       "      <th>item_id</th>\n",
       "      <th>10</th>\n",
       "      <th>1002</th>\n",
       "      <th>10090</th>\n",
       "      <th>10130</th>\n",
       "      <th>10150</th>\n",
       "      <th>10180</th>\n",
       "      <th>10220</th>\n",
       "      <th>102200</th>\n",
       "      <th>102400</th>\n",
       "      <th>102500</th>\n",
       "      <th>...</th>\n",
       "      <th>98800</th>\n",
       "      <th>9900</th>\n",
       "      <th>99120</th>\n",
       "      <th>99200</th>\n",
       "      <th>99300</th>\n",
       "      <th>9940</th>\n",
       "      <th>99400</th>\n",
       "      <th>99700</th>\n",
       "      <th>9980</th>\n",
       "      <th>99900</th>\n",
       "    </tr>\n",
       "    <tr>\n",
       "      <th>item_id</th>\n",
       "      <th></th>\n",
       "      <th></th>\n",
       "      <th></th>\n",
       "      <th></th>\n",
       "      <th></th>\n",
       "      <th></th>\n",
       "      <th></th>\n",
       "      <th></th>\n",
       "      <th></th>\n",
       "      <th></th>\n",
       "      <th></th>\n",
       "      <th></th>\n",
       "      <th></th>\n",
       "      <th></th>\n",
       "      <th></th>\n",
       "      <th></th>\n",
       "      <th></th>\n",
       "      <th></th>\n",
       "      <th></th>\n",
       "      <th></th>\n",
       "      <th></th>\n",
       "    </tr>\n",
       "  </thead>\n",
       "  <tbody>\n",
       "    <tr>\n",
       "      <th>10</th>\n",
       "      <td>1.000000</td>\n",
       "      <td>0.034937</td>\n",
       "      <td>0.083274</td>\n",
       "      <td>0.049452</td>\n",
       "      <td>0.071848</td>\n",
       "      <td>0.112011</td>\n",
       "      <td>0.039812</td>\n",
       "      <td>0.065044</td>\n",
       "      <td>0.042972</td>\n",
       "      <td>0.054173</td>\n",
       "      <td>...</td>\n",
       "      <td>0.079071</td>\n",
       "      <td>0.038440</td>\n",
       "      <td>0.018864</td>\n",
       "      <td>0.022960</td>\n",
       "      <td>0.090302</td>\n",
       "      <td>0.050415</td>\n",
       "      <td>0.065070</td>\n",
       "      <td>0.092884</td>\n",
       "      <td>0.042053</td>\n",
       "      <td>0.007742</td>\n",
       "    </tr>\n",
       "    <tr>\n",
       "      <th>1002</th>\n",
       "      <td>0.034937</td>\n",
       "      <td>1.000000</td>\n",
       "      <td>0.015216</td>\n",
       "      <td>0.032794</td>\n",
       "      <td>0.045702</td>\n",
       "      <td>0.021598</td>\n",
       "      <td>0.005587</td>\n",
       "      <td>0.054807</td>\n",
       "      <td>0.062902</td>\n",
       "      <td>0.024879</td>\n",
       "      <td>...</td>\n",
       "      <td>0.037846</td>\n",
       "      <td>0.014961</td>\n",
       "      <td>0.034548</td>\n",
       "      <td>0.039498</td>\n",
       "      <td>0.043910</td>\n",
       "      <td>0.032501</td>\n",
       "      <td>0.040951</td>\n",
       "      <td>0.034507</td>\n",
       "      <td>0.013167</td>\n",
       "      <td>0.001899</td>\n",
       "    </tr>\n",
       "    <tr>\n",
       "      <th>10090</th>\n",
       "      <td>0.083274</td>\n",
       "      <td>0.015216</td>\n",
       "      <td>1.000000</td>\n",
       "      <td>0.055360</td>\n",
       "      <td>0.081324</td>\n",
       "      <td>0.185245</td>\n",
       "      <td>0.037867</td>\n",
       "      <td>0.027525</td>\n",
       "      <td>0.020653</td>\n",
       "      <td>0.058854</td>\n",
       "      <td>...</td>\n",
       "      <td>0.030988</td>\n",
       "      <td>0.020775</td>\n",
       "      <td>0.019294</td>\n",
       "      <td>0.028061</td>\n",
       "      <td>0.042237</td>\n",
       "      <td>0.024938</td>\n",
       "      <td>0.024818</td>\n",
       "      <td>0.025054</td>\n",
       "      <td>0.033990</td>\n",
       "      <td>0.009600</td>\n",
       "    </tr>\n",
       "    <tr>\n",
       "      <th>10130</th>\n",
       "      <td>0.049452</td>\n",
       "      <td>0.032794</td>\n",
       "      <td>0.055360</td>\n",
       "      <td>1.000000</td>\n",
       "      <td>0.135158</td>\n",
       "      <td>0.054105</td>\n",
       "      <td>0.061630</td>\n",
       "      <td>0.110782</td>\n",
       "      <td>0.053646</td>\n",
       "      <td>0.107933</td>\n",
       "      <td>...</td>\n",
       "      <td>0.069794</td>\n",
       "      <td>0.030185</td>\n",
       "      <td>0.091164</td>\n",
       "      <td>0.069183</td>\n",
       "      <td>0.081794</td>\n",
       "      <td>0.116258</td>\n",
       "      <td>0.104738</td>\n",
       "      <td>0.072291</td>\n",
       "      <td>0.116045</td>\n",
       "      <td>0.006751</td>\n",
       "    </tr>\n",
       "    <tr>\n",
       "      <th>10150</th>\n",
       "      <td>0.071848</td>\n",
       "      <td>0.045702</td>\n",
       "      <td>0.081324</td>\n",
       "      <td>0.135158</td>\n",
       "      <td>1.000000</td>\n",
       "      <td>0.083102</td>\n",
       "      <td>0.080797</td>\n",
       "      <td>0.097701</td>\n",
       "      <td>0.056466</td>\n",
       "      <td>0.131608</td>\n",
       "      <td>...</td>\n",
       "      <td>0.102792</td>\n",
       "      <td>0.025903</td>\n",
       "      <td>0.049470</td>\n",
       "      <td>0.048548</td>\n",
       "      <td>0.087928</td>\n",
       "      <td>0.078086</td>\n",
       "      <td>0.085049</td>\n",
       "      <td>0.095841</td>\n",
       "      <td>0.057721</td>\n",
       "      <td>0.003746</td>\n",
       "    </tr>\n",
       "  </tbody>\n",
       "</table>\n",
       "<p>5 rows × 1963 columns</p>\n",
       "</div>"
      ],
      "text/plain": [
       "item_id        10      1002     10090     10130     10150     10180     10220  \\\n",
       "item_id                                                                         \n",
       "10       1.000000  0.034937  0.083274  0.049452  0.071848  0.112011  0.039812   \n",
       "1002     0.034937  1.000000  0.015216  0.032794  0.045702  0.021598  0.005587   \n",
       "10090    0.083274  0.015216  1.000000  0.055360  0.081324  0.185245  0.037867   \n",
       "10130    0.049452  0.032794  0.055360  1.000000  0.135158  0.054105  0.061630   \n",
       "10150    0.071848  0.045702  0.081324  0.135158  1.000000  0.083102  0.080797   \n",
       "\n",
       "item_id    102200    102400    102500  ...     98800      9900     99120  \\\n",
       "item_id                                ...                                 \n",
       "10       0.065044  0.042972  0.054173  ...  0.079071  0.038440  0.018864   \n",
       "1002     0.054807  0.062902  0.024879  ...  0.037846  0.014961  0.034548   \n",
       "10090    0.027525  0.020653  0.058854  ...  0.030988  0.020775  0.019294   \n",
       "10130    0.110782  0.053646  0.107933  ...  0.069794  0.030185  0.091164   \n",
       "10150    0.097701  0.056466  0.131608  ...  0.102792  0.025903  0.049470   \n",
       "\n",
       "item_id     99200     99300      9940     99400     99700      9980     99900  \n",
       "item_id                                                                        \n",
       "10       0.022960  0.090302  0.050415  0.065070  0.092884  0.042053  0.007742  \n",
       "1002     0.039498  0.043910  0.032501  0.040951  0.034507  0.013167  0.001899  \n",
       "10090    0.028061  0.042237  0.024938  0.024818  0.025054  0.033990  0.009600  \n",
       "10130    0.069183  0.081794  0.116258  0.104738  0.072291  0.116045  0.006751  \n",
       "10150    0.048548  0.087928  0.078086  0.085049  0.095841  0.057721  0.003746  \n",
       "\n",
       "[5 rows x 1963 columns]"
      ]
     },
     "execution_count": 10,
     "metadata": {},
     "output_type": "execute_result"
    }
   ],
   "source": [
    "relation_metrix = UserRatings.corr(method='pearson')\n",
    "relation_metrix.head()"
   ]
  },
  {
   "cell_type": "markdown",
   "metadata": {},
   "source": [
    "DataFrame : RelationMatrix"
   ]
  },
  {
   "cell_type": "code",
   "execution_count": 11,
   "metadata": {},
   "outputs": [],
   "source": [
    "import pickle\n",
    "pickle_out = open(\"../data/dataRelation.pkl\",\"wb\")\n",
    "pickle.dump(relation_metrix, pickle_out)\n",
    "pickle_out.close()"
   ]
  },
  {
   "cell_type": "code",
   "execution_count": 12,
   "metadata": {},
   "outputs": [],
   "source": [
    "dataItemUser = data[['item_id','metascore','user_id']]"
   ]
  },
  {
   "cell_type": "code",
   "execution_count": 16,
   "metadata": {},
   "outputs": [
    {
     "name": "stdout",
     "output_type": "stream",
     "text": [
      "Numero de filas duplicadas = 0\n"
     ]
    }
   ],
   "source": [
    "print(f\"Numero de filas duplicadas = {dataItemUser.duplicated().sum()}\")"
   ]
  },
  {
   "cell_type": "markdown",
   "metadata": {},
   "source": [
    "DataFrame : ItemUser"
   ]
  },
  {
   "cell_type": "code",
   "execution_count": 17,
   "metadata": {},
   "outputs": [],
   "source": [
    "import pickle\n",
    "pickle_out = open(\"../data/dataItemUser.pkl\",\"wb\")\n",
    "pickle.dump(dataItemUser, pickle_out)\n",
    "pickle_out.close()"
   ]
  },
  {
   "cell_type": "markdown",
   "metadata": {},
   "source": [
    "DataFrame : Itemname"
   ]
  },
  {
   "cell_type": "code",
   "execution_count": 18,
   "metadata": {},
   "outputs": [],
   "source": [
    "dataAppName = data[['item_id','app_name']]"
   ]
  },
  {
   "cell_type": "code",
   "execution_count": 19,
   "metadata": {},
   "outputs": [],
   "source": [
    "dataAppName=dataAppName.drop_duplicates()\n",
    "dataAppName=dataAppName.dropna()\n",
    "dataAppName=dataAppName.reset_index(drop=True)"
   ]
  },
  {
   "cell_type": "code",
   "execution_count": 20,
   "metadata": {},
   "outputs": [],
   "source": [
    "import pickle\n",
    "pickle_out = open(\"../data/dataItemName.pkl\",\"wb\")\n",
    "pickle.dump(dataAppName, pickle_out)\n",
    "pickle_out.close()"
   ]
  }
 ],
 "metadata": {
  "kernelspec": {
   "display_name": "Python 3",
   "language": "python",
   "name": "python3"
  },
  "language_info": {
   "codemirror_mode": {
    "name": "ipython",
    "version": 3
   },
   "file_extension": ".py",
   "mimetype": "text/x-python",
   "name": "python",
   "nbconvert_exporter": "python",
   "pygments_lexer": "ipython3",
   "version": "3.11.4"
  },
  "orig_nbformat": 4
 },
 "nbformat": 4,
 "nbformat_minor": 2
}
